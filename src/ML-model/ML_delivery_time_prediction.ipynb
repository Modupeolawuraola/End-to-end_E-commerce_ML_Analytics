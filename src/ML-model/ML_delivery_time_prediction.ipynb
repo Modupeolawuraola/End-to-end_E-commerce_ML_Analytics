{
 "cells": [
  {
   "cell_type": "code",
   "id": "initial_id",
   "metadata": {
    "ExecuteTime": {
     "end_time": "2025-06-04T20:29:13.533635Z",
     "start_time": "2025-06-04T20:29:12.373018Z"
    }
   },
   "source": [
    "import os\n",
    "import numpy as np \n",
    "import pandas as pd\n",
    "import matplotlib.pyplot as plt \n",
    "import seaborn as sns\n",
    "from fontTools.misc.classifyTools import Classifier\n",
    "from numba.np.random.distributions import random_standard_exponential\n",
    "from pandas.core.common import random_state\n",
    "from sklearn.model_selection import train_test_split\n",
    "from sklearn.preprocessing import StandardScaler, LabelEncoder, MinMaxScaler\n",
    "from sklearn.linear_model import LinearRegression\n",
    "from sklearn.ensemble import RandomForestRegressor\n",
    "from xgboost import XGBRegressor \n",
    "from sklearn.metrics import mean_squared_error, r2_score, mean_absolute_error \n",
    "from sklearn.metrics import accuracy_score\n",
    "from sklearn.metrics import f1_score\n",
    "\n",
    "from sklearn.linear_model import LogisticRegression\n",
    "from sklearn.ensemble import RandomForestClassifier\n",
    "from xgboost import XGBClassifier\n",
    "\n",
    "\n",
    "from sklearn.metrics import classification_report, confusion_matrix, accuracy_score\n",
    "\n",
    "\n",
    "import warnings\n",
    "warnings.filterwarnings('ignore')\n",
    "import pickle "
   ],
   "outputs": [],
   "execution_count": 3
  },
  {
   "cell_type": "code",
   "id": "dffe1e88-371d-4ec3-8a0b-dd68d9e32229",
   "metadata": {
    "ExecuteTime": {
     "end_time": "2025-06-04T20:29:16.924622Z",
     "start_time": "2025-06-04T20:29:15.989952Z"
    }
   },
   "source": [
    "import kagglehub \n",
    "path=kagglehub.dataset_download(\"olistbr/brazilian-ecommerce\")\n",
    "print('path to dataset file:', path)"
   ],
   "outputs": [
    {
     "name": "stdout",
     "output_type": "stream",
     "text": [
      "Warning: Looks like you're using an outdated `kagglehub` version (installed: 0.3.8), please consider upgrading to the latest version (0.3.12).\n",
      "path to dataset file: /Users/modupeolafagbenro/.cache/kagglehub/datasets/olistbr/brazilian-ecommerce/versions/2\n"
     ]
    }
   ],
   "execution_count": 4
  },
  {
   "cell_type": "code",
   "id": "6790c458-055a-48da-aa20-36134be122df",
   "metadata": {
    "ExecuteTime": {
     "end_time": "2025-06-04T20:29:20.661696Z",
     "start_time": "2025-06-04T20:29:20.654053Z"
    }
   },
   "source": [
    "files= os.listdir(path)\n",
    "print(\"files in the directory path and the dataset inside:\")\n",
    "for file in files:\n",
    "    print(file)"
   ],
   "outputs": [
    {
     "name": "stdout",
     "output_type": "stream",
     "text": [
      "files in the directory path and the dataset inside:\n",
      "olist_sellers_dataset.csv\n",
      "product_category_name_translation.csv\n",
      "olist_orders_dataset.csv\n",
      "olist_order_items_dataset.csv\n",
      "olist_customers_dataset.csv\n",
      "olist_geolocation_dataset.csv\n",
      "olist_order_payments_dataset.csv\n",
      "olist_order_reviews_dataset.csv\n",
      "olist_products_dataset.csv\n"
     ]
    }
   ],
   "execution_count": 5
  },
  {
   "cell_type": "code",
   "id": "947a3981-1871-4f6b-b99e-46972ae38014",
   "metadata": {
    "ExecuteTime": {
     "end_time": "2025-06-04T20:29:24.447735Z",
     "start_time": "2025-06-04T20:29:24.426965Z"
    }
   },
   "source": [
    "def load_clean_dataset():\n",
    "    \" Loading clean preprocessed dataset\"\"\"\n",
    "    try:\n",
    "        with open(\"../data/processed/main_df_cleaned.pkl\", \"rb\") as f:\n",
    "            main_df = pickle.load(f)\n",
    "            print(f\"Loading clean data from data preprocessing: {main_df.shape}\")\n",
    "            return main_df  \n",
    "    except FileNotFoundError:\n",
    "        print(\"File is not found: Run data preprocessing file\")\n",
    "        return None\n",
    "        "
   ],
   "outputs": [],
   "execution_count": 6
  },
  {
   "cell_type": "code",
   "id": "aa85b40a-3f29-42ce-a26d-fdc72497fb27",
   "metadata": {
    "ExecuteTime": {
     "end_time": "2025-06-04T20:29:27.355690Z",
     "start_time": "2025-06-04T20:29:27.273546Z"
    }
   },
   "source": [
    "main_df = load_clean_dataset()\n",
    "\n",
    "if main_df is not None:\n",
    "    print(\"Combined dataset\")\n",
    "    print(main_df.head())\n",
    "    "
   ],
   "outputs": [
    {
     "name": "stdout",
     "output_type": "stream",
     "text": [
      "Loading clean data from data preprocessing: (112650, 33)\n",
      "Combined dataset\n",
      "                           order_id                       customer_id  \\\n",
      "0  e481f51cbdc54678b7cc49136f2d6af7  9ef432eb6251297304e76186b10a928d   \n",
      "1  53cdb2fc8bc7dce0b6741e2150273451  b0830fb4747a6c6d20dea0b8c802d7ef   \n",
      "2  47770eb9100c2d0c44946d9cf07ec65d  41ce2a54c0b03bf3443c3d931a367089   \n",
      "3  949d5b44dbf5de918fe9c16f97b45f8a  f88197465ea7920adcdbec7375364d82   \n",
      "4  ad21c59c0840e6cb83a9ceb5573f8159  8ab97904e6daea8866dbdbc4fb7aad2c   \n",
      "\n",
      "  order_status order_purchase_timestamp   order_approved_at  \\\n",
      "0    delivered      2017-10-02 10:56:33 2017-10-02 11:07:15   \n",
      "1    delivered      2018-07-24 20:41:37 2018-07-26 03:24:27   \n",
      "2    delivered      2018-08-08 08:38:49 2018-08-08 08:55:23   \n",
      "3    delivered      2017-11-18 19:28:06 2017-11-18 19:45:59   \n",
      "4    delivered      2018-02-13 21:18:39 2018-02-13 22:20:29   \n",
      "\n",
      "  order_delivered_carrier_date order_delivered_customer_date  \\\n",
      "0          2017-10-04 19:55:00           2017-10-10 21:25:13   \n",
      "1          2018-07-26 14:31:00           2018-08-07 15:27:45   \n",
      "2          2018-08-08 13:50:00           2018-08-17 18:06:29   \n",
      "3          2017-11-22 13:39:59           2017-12-02 00:28:42   \n",
      "4          2018-02-14 19:46:34           2018-02-16 18:17:02   \n",
      "\n",
      "  order_estimated_delivery_date  order_item_id  \\\n",
      "0                    2017-10-18              1   \n",
      "1                    2018-08-13              1   \n",
      "2                    2018-09-04              1   \n",
      "3                    2017-12-15              1   \n",
      "4                    2018-02-26              1   \n",
      "\n",
      "                         product_id  ... product_length_cm product_height_cm  \\\n",
      "0  87285b34884572647811a353c7ac498a  ...              19.0               8.0   \n",
      "1  595fac2a385ac33a80bd5114aec74eb8  ...              19.0              13.0   \n",
      "2  aa4383b373c6aca5d8797843e5594415  ...              24.0              19.0   \n",
      "3  d0b61bfb1de832b15ba9d266ca96e5b0  ...              30.0              10.0   \n",
      "4  65266b2da20d04dbe00c5c2d3bb7859e  ...              51.0              15.0   \n",
      "\n",
      "   product_width_cm  order_year order_month  order_day_of_week order_hour  \\\n",
      "0              13.0        2017          10                  0         10   \n",
      "1              19.0        2018           7                  1         20   \n",
      "2              21.0        2018           8                  2          8   \n",
      "3              20.0        2017          11                  5         19   \n",
      "4              15.0        2018           2                  1         21   \n",
      "\n",
      "  delivery_days total_order_value  is_weekend  \n",
      "0           8.0          261.5128       False  \n",
      "1          13.0         2701.6120       False  \n",
      "2           9.0         3073.2780       False  \n",
      "3          13.0         1224.0000        True  \n",
      "4           2.0          173.5280       False  \n",
      "\n",
      "[5 rows x 33 columns]\n"
     ]
    }
   ],
   "execution_count": 7
  },
  {
   "cell_type": "code",
   "id": "d1732003-3f2a-4adc-bcca-074adb1a924d",
   "metadata": {
    "ExecuteTime": {
     "end_time": "2025-06-04T20:29:32.904827Z",
     "start_time": "2025-06-04T20:29:30.157770Z"
    }
   },
   "source": [
    "#merge the payment dataset with the clean dataset for modeling purposes\n",
    "payment_df=pd.read_csv(os.path.join(path, \"olist_order_payments_dataset.csv\"))\n",
    "\n",
    "#get primary payment method or order(most common payment method for each order)\n",
    "primary_payments =payment_df.groupby('order_id').agg({\n",
    "    'payment_type': lambda x: x.mode()[0], \n",
    "    'payment_value': 'sum' \n",
    "}).reset_index()\n",
    "\n",
    "#merge with your current main_df\n",
    "main_df_with_payments = main_df.merge(primary_payments, on='order_id', how='left')\n",
    "\n",
    "print(f\"Shape before:{main_df.shape}\")\n",
    "print(f\"shape after :{main_df.shape}\")"
   ],
   "outputs": [
    {
     "name": "stdout",
     "output_type": "stream",
     "text": [
      "Shape before:(112650, 33)\n",
      "shape after :(112650, 33)\n"
     ]
    }
   ],
   "execution_count": 8
  },
  {
   "cell_type": "markdown",
   "id": "b6726871-0a2b-439c-b86f-aead5c3c3302",
   "metadata": {},
   "source": [
    "Modeling - Regression, Classification, Ensemble method"
   ]
  },
  {
   "cell_type": "markdown",
   "id": "e8a4bf6d-e37c-4b7e-a2e3-616663c04c7d",
   "metadata": {},
   "source": [
    "Model 2- Delivery Time Prediction"
   ]
  },
  {
   "cell_type": "code",
   "id": "5aa11d5e-c5fc-4e2d-81c1-e44680a2969e",
   "metadata": {
    "ExecuteTime": {
     "end_time": "2025-06-04T20:29:40.159833Z",
     "start_time": "2025-06-04T20:29:40.101730Z"
    }
   },
   "source": [
    "#filtered down to delivered orders only\n",
    "\n",
    "delivered_orders=main_df_with_payments.dropna(subset=['delivery_days'])\n",
    "print(f\"Delivered orders: {len(delivered_orders)} out of {len(main_df_with_payments)}\")\n",
    "\n",
    "#feature selections -for main features and target features \n",
    "\n",
    "delivery_features=[\n",
    "    'customer_state', 'customer_zip_code_prefix',\n",
    "    #Product features\n",
    "    'product_weight_g', 'product_length_cm', 'product_height_cm', 'product_category_name',\n",
    "    #order timing\n",
    "    'order_month', 'order_day_of_week', 'is_weekend',\n",
    "    #order characteristics\n",
    "    'freight_value', 'price'\n",
    "    \n",
    "]\n",
    "\n",
    "target_delivery= 'delivery_days'\n",
    "    "
   ],
   "outputs": [
    {
     "name": "stdout",
     "output_type": "stream",
     "text": [
      "Delivered orders: 110196 out of 112650\n"
     ]
    }
   ],
   "execution_count": 9
  },
  {
   "cell_type": "code",
   "id": "dd06204d-8fee-491e-acf4-27b0a6b7c4d5",
   "metadata": {
    "ExecuteTime": {
     "end_time": "2025-06-04T20:29:45.345904Z",
     "start_time": "2025-06-04T20:29:45.325103Z"
    }
   },
   "source": [
    "#modeling data preparation\n",
    "X_delivery = delivered_orders[delivery_features].copy()\n",
    "y_delivery= delivered_orders[target_delivery].copy()\n",
    "\n",
    "#verifying \n",
    "\n",
    "print(f\"X_delivery shape: {X_delivery.shape}\")\n",
    "print(f\"y_delievry shape: {y_delivery.shape}\")"
   ],
   "outputs": [
    {
     "name": "stdout",
     "output_type": "stream",
     "text": [
      "X_delivery shape: (110196, 11)\n",
      "y_delievry shape: (110196,)\n"
     ]
    }
   ],
   "execution_count": 10
  },
  {
   "cell_type": "markdown",
   "id": "d410d27b-517e-43f8-83f2-afe6a69ad1cf",
   "metadata": {},
   "source": [
    "Handling Categorical Variable -Encoding"
   ]
  },
  {
   "cell_type": "code",
   "id": "75b75595-07de-4882-8b43-9ab123f6cd63",
   "metadata": {
    "ExecuteTime": {
     "end_time": "2025-06-04T20:29:52.172446Z",
     "start_time": "2025-06-04T20:29:52.137144Z"
    }
   },
   "source": [
    "delivery_encoders ={}\n",
    "\n",
    "categorical_col = ['customer_state', 'product_category_name']\n",
    "\n",
    "for col in categorical_col:\n",
    "    le= LabelEncoder()\n",
    "    X_delivery[col]=le.fit_transform(X_delivery[col])\n",
    "    delivery_encoders[col]=le\n",
    "    "
   ],
   "outputs": [],
   "execution_count": 11
  },
  {
   "cell_type": "markdown",
   "id": "dcafdb30-1f11-4ab2-8d64-055f6d5a6d17",
   "metadata": {},
   "source": [
    "Splitting the dataset for modeling"
   ]
  },
  {
   "cell_type": "code",
   "id": "c5f89d78-56c0-4b82-a46f-c7b8d2ce9d4a",
   "metadata": {
    "ExecuteTime": {
     "end_time": "2025-06-04T20:29:54.932404Z",
     "start_time": "2025-06-04T20:29:54.902572Z"
    }
   },
   "source": [
    "#train_test Split\n",
    "X_train_del, X_test_del,  y_train_del, y_test_del = train_test_split(X_delivery, y_delivery, test_size=0.2, random_state=42)\n",
    "\n",
    "\n",
    "print(f\"Training set: {X_train_del.shape}\")\n",
    "print(f\"Test Set: {X_test_del.shape}\")"
   ],
   "outputs": [
    {
     "name": "stdout",
     "output_type": "stream",
     "text": [
      "Training set: (88156, 11)\n",
      "Test Set: (22040, 11)\n"
     ]
    }
   ],
   "execution_count": 12
  },
  {
   "cell_type": "markdown",
   "id": "f4678794-38ac-4f2d-a29d-e1f27bade218",
   "metadata": {},
   "source": [
    "Standardization Since the model involves Linear Regression -New scaler"
   ]
  },
  {
   "cell_type": "code",
   "id": "35e966dc-2e99-46fe-ae40-eddc37168f48",
   "metadata": {
    "ExecuteTime": {
     "end_time": "2025-06-04T20:29:58.372480Z",
     "start_time": "2025-06-04T20:29:58.313510Z"
    }
   },
   "source": [
    "delivery_scaler= StandardScaler()\n",
    "X_train_del_scaled= delivery_scaler.fit_transform(X_train_del)\n",
    "X_test_del_scaled= delivery_scaler.transform(X_test_del)"
   ],
   "outputs": [],
   "execution_count": 13
  },
  {
   "cell_type": "code",
   "id": "e1cf860c-5c31-4e05-9f39-819c3ec6134f",
   "metadata": {
    "ExecuteTime": {
     "end_time": "2025-06-04T20:30:34.599341Z",
     "start_time": "2025-06-04T20:30:00.084598Z"
    }
   },
   "source": [
    "delivery_models={\n",
    "    'Linear Regression': LinearRegression(),\n",
    "    'Random Forest Regressor': RandomForestRegressor(n_estimators=100,random_state=42),\n",
    "    'XGBoost Regressor' : XGBRegressor(n_estimators=100, random_state=42)\n",
    "}\n",
    "\n",
    "#train and evaluate \n",
    "delivery_result={}\n",
    "for name, model in delivery_models.items():\n",
    "    print(f\"n\\====={name} ====\")\n",
    "    if name == 'Linear Regression':\n",
    "        model.fit(X_train_del_scaled, y_train_del)\n",
    "        y_pred = model.predict(X_test_del_scaled)\n",
    "\n",
    "    else:\n",
    "\n",
    "        model.fit(X_train_del, y_train_del)\n",
    "        y_pred = model.predict(X_test_del)\n",
    "\n",
    "    #metrics\n",
    "    mse = mean_squared_error(y_test_del, y_pred)\n",
    "    rmse = mse ** 0.5\n",
    "    mae = mean_absolute_error(y_test_del, y_pred)\n",
    "    r2= r2_score(y_test_del, y_pred)\n",
    "\n",
    "    delivery_result[name] = {'RMSE': rmse, 'MAE': mae, 'R2': r2}\n",
    "    \n",
    "    print(f'RMSE: {rmse:.2f}')\n",
    "    print(f'MAE: {mae:.2f}')\n",
    "    print(f'R2: {r2:.2f}')\n",
    "    \n",
    "    #compareb results\n",
    "    delivery_df = pd.DataFrame(delivery_result).T\n",
    "    print(\"\\n==== Delivery Time Model Comparison ===\\n\")\n",
    "    print(delivery_df)"
   ],
   "outputs": [
    {
     "name": "stdout",
     "output_type": "stream",
     "text": [
      "n\\=====Linear Regression ====\n",
      "RMSE: 8.61\n",
      "MAE: 5.67\n",
      "R2: 0.14\n",
      "\n",
      "==== Delivery Time Model Comparison ===\n",
      "\n",
      "                       RMSE       MAE        R2\n",
      "Linear Regression  8.612944  5.671724  0.138417\n",
      "n\\=====Random Forest Regressor ====\n",
      "RMSE: 7.42\n",
      "MAE: 4.47\n",
      "R2: 0.36\n",
      "\n",
      "==== Delivery Time Model Comparison ===\n",
      "\n",
      "                             RMSE       MAE        R2\n",
      "Linear Regression        8.612944  5.671724  0.138417\n",
      "Random Forest Regressor  7.424661  4.472330  0.359753\n",
      "n\\=====XGBoost Regressor ====\n",
      "RMSE: 7.48\n",
      "MAE: 4.70\n",
      "R2: 0.35\n",
      "\n",
      "==== Delivery Time Model Comparison ===\n",
      "\n",
      "                             RMSE       MAE        R2\n",
      "Linear Regression        8.612944  5.671724  0.138417\n",
      "Random Forest Regressor  7.424661  4.472330  0.359753\n",
      "XGBoost Regressor        7.482660  4.696887  0.349711\n"
     ]
    }
   ],
   "execution_count": 14
  },
  {
   "cell_type": "markdown",
   "id": "8773f4aa-71b4-4a4d-bdae-59bbe2c29ba2",
   "metadata": {},
   "source": [
    "Business Interpretation "
   ]
  },
  {
   "cell_type": "code",
   "id": "5b4ebd3b-4f79-4455-b8f0-ee56d3b3a4dc",
   "metadata": {
    "ExecuteTime": {
     "end_time": "2025-06-04T20:30:38.056559Z",
     "start_time": "2025-06-04T20:30:38.052989Z"
    }
   },
   "source": [
    "print(\"Delivery Time Prediction:\")\n",
    "print(\"Predict Delivery within +-4.5 days in average\")\n",
    "print(\"This explains 36% of delivery time variation\")\n",
    "print(\"Typical Delivery prediction accuracy is 7-10days for 14days delivery \")"
   ],
   "outputs": [
    {
     "name": "stdout",
     "output_type": "stream",
     "text": [
      "Delivery Time Prediction:\n",
      "Predict Delivery within +-4.5 days in average\n",
      "This explains 36% of delivery time variation\n",
      "Typical Delivery prediction accuracy is 7-10days for 14days delivery \n"
     ]
    }
   ],
   "execution_count": 15
  },
  {
   "cell_type": "markdown",
   "id": "8453c7d2-8cac-4e4a-b6ae-6e0d25c3d768",
   "metadata": {},
   "source": [
    "In real world:\n",
    "Customer asked : when will my order arrive?\n",
    "Actually delivery will be in 12 days\n",
    "\n",
    "Our Random forest predicts 12days +-4.5days , which could be 7.5-16.5 days range\n",
    "\n",
    "BUSINESS IMPACT: can give customer realistic expectation in regards to order good delivery time \n",
    "\n",
    "\n",
    "Linear Regression performance was worst with R2 score of 0.14 because Delivery time is highly non-linear with the features \n",
    "\n",
    "while Randon Forest Regressor capture non-linearity and complexity in the model such as Geographical location, Product complexity e.g heavy/bukly item processing days \n",
    "also capture seasonal effect which could be holidays \n",
    "shipping tiers , express vs standard shipping \n",
    "Warehouse logistics , stock availability that may affect processing of goods\n",
    "\n"
   ]
  },
  {
   "cell_type": "code",
   "execution_count": 57,
   "id": "7b0a061e-af2b-45f2-9bc2-64c7317a4553",
   "metadata": {},
   "outputs": [
    {
     "name": "stdout",
     "output_type": "stream",
     "text": [
      "Top 5 delivery Time Drivers:\n",
      "                    features  importance\n",
      "1   customer_zip_code_prefix    0.276462\n",
      "9              freight_value    0.148156\n",
      "10                     price    0.104447\n",
      "6                order_month    0.086501\n",
      "2           product_weight_g    0.086159\n"
     ]
    }
   ],
   "source": [
    "#Features importance checking the features that drives the delivery time \n",
    "delivery_importance =pd.DataFrame({\n",
    "    'features': delivery_features,\n",
    "    'importance': delivery_models['Random Forest Regressor'].feature_importances_,\n",
    "}).sort_values(by='importance', ascending=False)\n",
    "\n",
    "print(\"Top 5 delivery Time Drivers:\")\n",
    "print(delivery_importance.head())"
   ]
  },
  {
   "cell_type": "markdown",
   "id": "abea3bf8-bfb2-42b6-bcc1-6c088bef5dde",
   "metadata": {},
   "source": [
    "Top 5 Delivery Time Drivers - Business Insights:\n",
    "\n",
    "customer_zip_code_prefix (26.6%): 🏠 Location is KING\n",
    "\n",
    "Remote areas = longer delivery\n",
    "Urban vs rural logistics differences\n",
    "Distance from distribution centers\n",
    "\n",
    "\n",
    "freight_value (14.2%): 🚚 Shipping complexity\n",
    "\n",
    "Express shipping = faster delivery\n",
    "Heavy/bulky items = processing delays\n",
    "Premium shipping tiers\n",
    "\n",
    "\n",
    "price (9.6%): 💰 Product value affects handling\n",
    "\n",
    "Expensive items = extra security checks\n",
    "Premium products = careful packaging\n",
    "Insurance processing time\n",
    "\n",
    "\n",
    "order_month (8.5%): 📅 Seasonal logistics\n",
    "\n",
    "Holiday seasons = warehouse congestion\n",
    "Weather impacts (rainy season)\n",
    "Peak shopping periods\n",
    "\n",
    "\n",
    "product_weight_g (7.9%): ⚖️ Physical logistics\n",
    "\n",
    "Heavy items = slower processing\n",
    "Special handling requirements\n",
    "Carrier capacity constraints"
   ]
  },
  {
   "cell_type": "code",
   "execution_count": null,
   "id": "587e3083-32ff-4988-b76c-cbd46feb382b",
   "metadata": {},
   "outputs": [],
   "source": []
  }
 ],
 "metadata": {
  "kernelspec": {
   "display_name": "Python (base)",
   "language": "python",
   "name": "base"
  },
  "language_info": {
   "codemirror_mode": {
    "name": "ipython",
    "version": 3
   },
   "file_extension": ".py",
   "mimetype": "text/x-python",
   "name": "python",
   "nbconvert_exporter": "python",
   "pygments_lexer": "ipython3",
   "version": "3.12.2"
  }
 },
 "nbformat": 4,
 "nbformat_minor": 5
}
