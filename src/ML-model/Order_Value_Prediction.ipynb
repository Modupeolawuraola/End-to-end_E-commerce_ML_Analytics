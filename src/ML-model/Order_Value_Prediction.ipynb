{
 "cells": [
  {
   "cell_type": "code",
   "execution_count": 1,
   "id": "e4525a24-9c25-472c-a5b0-a482dfd6157e",
   "metadata": {},
   "outputs": [],
   "source": [
    "import os \n",
    "import numpy as np\n",
    "import pandas as pd \n",
    "import pickle\n",
    "from numba.np.random.distributions import random_standard_exponential\n",
    "from pandas.core.common import random_state\n",
    "from sklearn.model_selection import train_test_split\n",
    "from sklearn.preprocessing import StandardScaler, LabelEncoder, MinMaxScaler\n",
    "from sklearn.linear_model import LinearRegression\n",
    "from sklearn.ensemble import RandomForestRegressor\n",
    "from xgboost import XGBRegressor \n",
    "from sklearn.metrics import mean_squared_error, r2_score, mean_absolute_error \n",
    "from sklearn.metrics import accuracy_score\n",
    "from sklearn.metrics import f1_score\n",
    "\n",
    "from sklearn.linear_model import LogisticRegression\n",
    "from sklearn.ensemble import RandomForestClassifier\n",
    "from xgboost import XGBClassifier\n",
    "\n",
    "\n",
    "from sklearn.metrics import classification_report, confusion_matrix, accuracy_score\n",
    "\n",
    "\n",
    "import warnings\n",
    "warnings.filterwarnings('ignore')"
   ]
  },
  {
   "cell_type": "markdown",
   "id": "6ba2b8d2-4ddc-4c31-bbdc-261f0e9e6771",
   "metadata": {},
   "source": [
    "Model-Regression, Classification, and Ensemble Method"
   ]
  },
  {
   "cell_type": "code",
   "execution_count": 3,
   "id": "7dcffe1d-986c-4882-b664-71e3a7e174a5",
   "metadata": {},
   "outputs": [],
   "source": [
    "#load clean  dataset from \n",
    "def load_clean_data():\n",
    "    \"\"\"Load clean data from data preprocessing\"\"\"\n",
    "    try:\n",
    "        with open(\"../data/processed/main_df_cleaned.pkl\", \"rb\") as f:\n",
    "            main_df = pickle.load(f)\n",
    "        print(f\"Load clean data:{main_df.shape}\")\n",
    "        return main_df\n",
    "    except FileNotFoundError:\n",
    "        print(\"Data file not found: Run data-preprocessing file first\")\n",
    "    return None\n",
    "        \n",
    "            \n"
   ]
  },
  {
   "cell_type": "code",
   "execution_count": 9,
   "id": "10ac6371-8052-457f-ac03-1d9b7edbacf5",
   "metadata": {},
   "outputs": [
    {
     "name": "stdout",
     "output_type": "stream",
     "text": [
      "Data file not found: Run data-preprocessing file first\n"
     ]
    }
   ],
   "source": [
    "main_df= load_clean_data()\n",
    "\n",
    "if main_df is not None:\n",
    "    print(\"Read for data viz!\")\n",
    "    print(main_df.head(10))"
   ]
  },
  {
   "cell_type": "code",
   "execution_count": null,
   "id": "fe8daef2-8d1c-4f1a-bd9a-4f8d9ff30e0c",
   "metadata": {},
   "outputs": [],
   "source": []
  }
 ],
 "metadata": {
  "kernelspec": {
   "display_name": "Python Data Science",
   "language": "python",
   "name": "myenv"
  },
  "language_info": {
   "codemirror_mode": {
    "name": "ipython",
    "version": 3
   },
   "file_extension": ".py",
   "mimetype": "text/x-python",
   "name": "python",
   "nbconvert_exporter": "python",
   "pygments_lexer": "ipython3",
   "version": "3.12.2"
  }
 },
 "nbformat": 4,
 "nbformat_minor": 5
}
