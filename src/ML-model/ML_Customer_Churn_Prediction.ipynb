{
 "cells": [
  {
   "cell_type": "code",
   "id": "initial_id",
   "metadata": {
    "ExecuteTime": {
     "end_time": "2025-08-30T15:31:43.982532Z",
     "start_time": "2025-08-30T15:31:41.440029Z"
    }
   },
   "source": [
    "import os\n",
    "import numpy as np \n",
    "import pandas as pd\n",
    "import matplotlib.pyplot as plt \n",
    "import seaborn as sns\n",
    "from fontTools.misc.classifyTools import Classifier\n",
    "from numba.np.random.distributions import random_standard_exponential\n",
    "from pandas.core.common import random_state\n",
    "from sklearn.model_selection import train_test_split\n",
    "from sklearn.preprocessing import StandardScaler, LabelEncoder, MinMaxScaler\n",
    "from sklearn.linear_model import LinearRegression\n",
    "from sklearn.ensemble import RandomForestRegressor\n",
    "from xgboost import XGBRegressor \n",
    "from sklearn.metrics import mean_squared_error, r2_score, mean_absolute_error \n",
    "from sklearn.metrics import accuracy_score\n",
    "from sklearn.metrics import f1_score\n",
    "\n",
    "from sklearn.linear_model import LogisticRegression\n",
    "from sklearn.ensemble import RandomForestClassifier\n",
    "from xgboost import XGBClassifier\n",
    "\n",
    "\n",
    "from sklearn.metrics import classification_report, confusion_matrix, accuracy_score\n",
    "\n",
    "\n",
    "import warnings\n",
    "warnings.filterwarnings('ignore')\n",
    "import pickle "
   ],
   "outputs": [],
   "execution_count": 3
  },
  {
   "cell_type": "code",
   "id": "cf7a05cb-886f-4060-ad9c-6e991de18180",
   "metadata": {
    "ExecuteTime": {
     "end_time": "2025-08-30T15:31:47.516121Z",
     "start_time": "2025-08-30T15:31:46.627958Z"
    }
   },
   "source": [
    "import kagglehub\n",
    "path = kagglehub.dataset_download(\"olistbr/brazilian-ecommerce\")\n",
    "print(\"path to dataset file:\", path)\n"
   ],
   "outputs": [
    {
     "name": "stdout",
     "output_type": "stream",
     "text": [
      "Warning: Looks like you're using an outdated `kagglehub` version (installed: 0.3.8), please consider upgrading to the latest version (0.3.13).\n",
      "path to dataset file: /Users/modupeolafagbenro/.cache/kagglehub/datasets/olistbr/brazilian-ecommerce/versions/2\n"
     ]
    }
   ],
   "execution_count": 4
  },
  {
   "cell_type": "code",
   "id": "8902b82f-bd49-449c-a77e-06b871567551",
   "metadata": {
    "ExecuteTime": {
     "end_time": "2025-08-30T15:31:50.064353Z",
     "start_time": "2025-08-30T15:31:50.061730Z"
    }
   },
   "source": [
    "files= os.listdir(path)\n",
    "print(\"files inside the directory path and the dataset inside\")\n",
    "for file in files:\n",
    "    print(file)"
   ],
   "outputs": [
    {
     "name": "stdout",
     "output_type": "stream",
     "text": [
      "files inside the directory path and the dataset inside\n",
      "olist_sellers_dataset.csv\n",
      "product_category_name_translation.csv\n",
      "olist_orders_dataset.csv\n",
      "olist_order_items_dataset.csv\n",
      "olist_customers_dataset.csv\n",
      "olist_geolocation_dataset.csv\n",
      "olist_order_payments_dataset.csv\n",
      "olist_order_reviews_dataset.csv\n",
      "olist_products_dataset.csv\n"
     ]
    }
   ],
   "execution_count": 5
  },
  {
   "cell_type": "code",
   "id": "a2414f7c-1d43-4001-b67a-6f5dd07ef3b6",
   "metadata": {
    "ExecuteTime": {
     "end_time": "2025-08-30T15:31:51.819802Z",
     "start_time": "2025-08-30T15:31:51.812827Z"
    }
   },
   "source": [
    "def load_clean_dataset():\n",
    "    \"\"\"Load clean preprocessed dataset\"\"\"\n",
    "    try:\n",
    "        with open(\"../data/processed/main_df_cleaned.pkl\", \"rb\") as f:\n",
    "            main_df = pickle.load(f)\n",
    "            print(f\"loading clean data from data preprocessing: {main_df.shape}\")\n",
    "            return main_df\n",
    "    except FileNotFoundError:\n",
    "        print(\"file is not found: Run data preprocessing file first\")\n",
    "        return None\n",
    "            \n",
    "            "
   ],
   "outputs": [],
   "execution_count": 6
  },
  {
   "cell_type": "code",
   "id": "429d8498-f8fc-46fa-806a-2c059901554f",
   "metadata": {
    "ExecuteTime": {
     "end_time": "2025-08-30T15:31:56.756694Z",
     "start_time": "2025-08-30T15:31:56.673938Z"
    }
   },
   "source": [
    "main_df= load_clean_dataset()\n",
    "\n",
    "if main_df is not None:\n",
    "    print(f\"dataset in main_df is: {main_df.shape}\")\n",
    "    print(f\"{main_df.head(5)}\")"
   ],
   "outputs": [
    {
     "name": "stdout",
     "output_type": "stream",
     "text": [
      "loading clean data from data preprocessing: (112650, 33)\n",
      "dataset in main_df is: (112650, 33)\n",
      "                           order_id                       customer_id  \\\n",
      "0  e481f51cbdc54678b7cc49136f2d6af7  9ef432eb6251297304e76186b10a928d   \n",
      "1  53cdb2fc8bc7dce0b6741e2150273451  b0830fb4747a6c6d20dea0b8c802d7ef   \n",
      "2  47770eb9100c2d0c44946d9cf07ec65d  41ce2a54c0b03bf3443c3d931a367089   \n",
      "3  949d5b44dbf5de918fe9c16f97b45f8a  f88197465ea7920adcdbec7375364d82   \n",
      "4  ad21c59c0840e6cb83a9ceb5573f8159  8ab97904e6daea8866dbdbc4fb7aad2c   \n",
      "\n",
      "  order_status order_purchase_timestamp   order_approved_at  \\\n",
      "0    delivered      2017-10-02 10:56:33 2017-10-02 11:07:15   \n",
      "1    delivered      2018-07-24 20:41:37 2018-07-26 03:24:27   \n",
      "2    delivered      2018-08-08 08:38:49 2018-08-08 08:55:23   \n",
      "3    delivered      2017-11-18 19:28:06 2017-11-18 19:45:59   \n",
      "4    delivered      2018-02-13 21:18:39 2018-02-13 22:20:29   \n",
      "\n",
      "  order_delivered_carrier_date order_delivered_customer_date  \\\n",
      "0          2017-10-04 19:55:00           2017-10-10 21:25:13   \n",
      "1          2018-07-26 14:31:00           2018-08-07 15:27:45   \n",
      "2          2018-08-08 13:50:00           2018-08-17 18:06:29   \n",
      "3          2017-11-22 13:39:59           2017-12-02 00:28:42   \n",
      "4          2018-02-14 19:46:34           2018-02-16 18:17:02   \n",
      "\n",
      "  order_estimated_delivery_date  order_item_id  \\\n",
      "0                    2017-10-18              1   \n",
      "1                    2018-08-13              1   \n",
      "2                    2018-09-04              1   \n",
      "3                    2017-12-15              1   \n",
      "4                    2018-02-26              1   \n",
      "\n",
      "                         product_id  ... product_length_cm product_height_cm  \\\n",
      "0  87285b34884572647811a353c7ac498a  ...              19.0               8.0   \n",
      "1  595fac2a385ac33a80bd5114aec74eb8  ...              19.0              13.0   \n",
      "2  aa4383b373c6aca5d8797843e5594415  ...              24.0              19.0   \n",
      "3  d0b61bfb1de832b15ba9d266ca96e5b0  ...              30.0              10.0   \n",
      "4  65266b2da20d04dbe00c5c2d3bb7859e  ...              51.0              15.0   \n",
      "\n",
      "   product_width_cm  order_year order_month  order_day_of_week order_hour  \\\n",
      "0              13.0        2017          10                  0         10   \n",
      "1              19.0        2018           7                  1         20   \n",
      "2              21.0        2018           8                  2          8   \n",
      "3              20.0        2017          11                  5         19   \n",
      "4              15.0        2018           2                  1         21   \n",
      "\n",
      "  delivery_days total_order_value  is_weekend  \n",
      "0           8.0          261.5128       False  \n",
      "1          13.0         2701.6120       False  \n",
      "2           9.0         3073.2780       False  \n",
      "3          13.0         1224.0000        True  \n",
      "4           2.0          173.5280       False  \n",
      "\n",
      "[5 rows x 33 columns]\n"
     ]
    }
   ],
   "execution_count": 7
  },
  {
   "cell_type": "code",
   "id": "2583f998-a6ba-49db-bd65-b38b4e0e7a39",
   "metadata": {
    "ExecuteTime": {
     "end_time": "2025-08-30T15:32:00.051710Z",
     "start_time": "2025-08-30T15:31:59.984960Z"
    }
   },
   "source": [
    "main_df.info()"
   ],
   "outputs": [
    {
     "name": "stdout",
     "output_type": "stream",
     "text": [
      "<class 'pandas.core.frame.DataFrame'>\n",
      "RangeIndex: 112650 entries, 0 to 112649\n",
      "Data columns (total 33 columns):\n",
      " #   Column                         Non-Null Count   Dtype         \n",
      "---  ------                         --------------   -----         \n",
      " 0   order_id                       112650 non-null  object        \n",
      " 1   customer_id                    112650 non-null  object        \n",
      " 2   order_status                   112650 non-null  object        \n",
      " 3   order_purchase_timestamp       112650 non-null  datetime64[ns]\n",
      " 4   order_approved_at              112650 non-null  datetime64[ns]\n",
      " 5   order_delivered_carrier_date   111456 non-null  datetime64[ns]\n",
      " 6   order_delivered_customer_date  110196 non-null  datetime64[ns]\n",
      " 7   order_estimated_delivery_date  112650 non-null  datetime64[ns]\n",
      " 8   order_item_id                  112650 non-null  int64         \n",
      " 9   product_id                     112650 non-null  object        \n",
      " 10  seller_id                      112650 non-null  object        \n",
      " 11  shipping_limit_date            112650 non-null  datetime64[ns]\n",
      " 12  price                          112650 non-null  float64       \n",
      " 13  freight_value                  112650 non-null  float64       \n",
      " 14  customer_unique_id             112650 non-null  object        \n",
      " 15  customer_zip_code_prefix       112650 non-null  int64         \n",
      " 16  customer_city                  112650 non-null  object        \n",
      " 17  customer_state                 112650 non-null  object        \n",
      " 18  product_category_name          112650 non-null  object        \n",
      " 19  product_name_lenght            112650 non-null  float64       \n",
      " 20  product_description_lenght     112650 non-null  float64       \n",
      " 21  product_photos_qty             112650 non-null  int64         \n",
      " 22  product_weight_g               112650 non-null  float64       \n",
      " 23  product_length_cm              112650 non-null  float64       \n",
      " 24  product_height_cm              112650 non-null  float64       \n",
      " 25  product_width_cm               112650 non-null  float64       \n",
      " 26  order_year                     112650 non-null  int32         \n",
      " 27  order_month                    112650 non-null  int32         \n",
      " 28  order_day_of_week              112650 non-null  int32         \n",
      " 29  order_hour                     112650 non-null  int32         \n",
      " 30  delivery_days                  110196 non-null  float64       \n",
      " 31  total_order_value              112650 non-null  float64       \n",
      " 32  is_weekend                     112650 non-null  bool          \n",
      "dtypes: bool(1), datetime64[ns](6), float64(10), int32(4), int64(3), object(9)\n",
      "memory usage: 25.9+ MB\n"
     ]
    }
   ],
   "execution_count": 8
  },
  {
   "cell_type": "code",
   "id": "7f004b09-507c-4633-ab69-a4b984f4eb63",
   "metadata": {
    "ExecuteTime": {
     "end_time": "2025-08-30T15:32:05.029765Z",
     "start_time": "2025-08-30T15:32:02.384313Z"
    }
   },
   "source": [
    "#adding payment table to the existing dataset for the purpose of modeling customer churn modeling \n",
    "#merge the payment datadet with thye clean dataset for modeling purposes\n",
    "payment_df=pd.read_csv(os.path.join(path, \"olist_order_payments_dataset.csv\"))\n",
    "\n",
    "#get prinary payment method or order(most common payment method for each order)\n",
    "primary_payments =payment_df.groupby('order_id').agg({\n",
    "    'payment_type': lambda x: x.mode()[0], \n",
    "    'payment_value': 'sum' \n",
    "}).reset_index()\n",
    "\n",
    "#merge with your current main_df\n",
    "main_df_with_payments = main_df.merge(primary_payments, on='order_id', how='left')\n",
    "\n",
    "print(f\"Shape before:{main_df.shape}\")\n",
    "print(f\"shape after :{main_df_with_payments.shape}\")"
   ],
   "outputs": [
    {
     "name": "stdout",
     "output_type": "stream",
     "text": [
      "Shape before:(112650, 33)\n",
      "shape after :(112650, 35)\n"
     ]
    }
   ],
   "execution_count": 9
  },
  {
   "cell_type": "code",
   "id": "daa4bf3b-63cd-406d-bc9d-7da86e2535ea",
   "metadata": {
    "ExecuteTime": {
     "end_time": "2025-08-30T15:32:06.537802Z",
     "start_time": "2025-08-30T15:32:06.532772Z"
    }
   },
   "source": [
    "main_df_with_payments.columns"
   ],
   "outputs": [
    {
     "data": {
      "text/plain": [
       "Index(['order_id', 'customer_id', 'order_status', 'order_purchase_timestamp',\n",
       "       'order_approved_at', 'order_delivered_carrier_date',\n",
       "       'order_delivered_customer_date', 'order_estimated_delivery_date',\n",
       "       'order_item_id', 'product_id', 'seller_id', 'shipping_limit_date',\n",
       "       'price', 'freight_value', 'customer_unique_id',\n",
       "       'customer_zip_code_prefix', 'customer_city', 'customer_state',\n",
       "       'product_category_name', 'product_name_lenght',\n",
       "       'product_description_lenght', 'product_photos_qty', 'product_weight_g',\n",
       "       'product_length_cm', 'product_height_cm', 'product_width_cm',\n",
       "       'order_year', 'order_month', 'order_day_of_week', 'order_hour',\n",
       "       'delivery_days', 'total_order_value', 'is_weekend', 'payment_type',\n",
       "       'payment_value'],\n",
       "      dtype='object')"
      ]
     },
     "execution_count": 10,
     "metadata": {},
     "output_type": "execute_result"
    }
   ],
   "execution_count": 10
  },
  {
   "cell_type": "code",
   "id": "39827df5-7679-4077-a815-d21d32eddab4",
   "metadata": {
    "ExecuteTime": {
     "end_time": "2025-08-30T15:32:08.387703Z",
     "start_time": "2025-08-30T15:32:08.381947Z"
    }
   },
   "source": [
    "main_df_with_payments['payment_type'].nunique()"
   ],
   "outputs": [
    {
     "data": {
      "text/plain": [
       "4"
      ]
     },
     "execution_count": 11,
     "metadata": {},
     "output_type": "execute_result"
    }
   ],
   "execution_count": 11
  },
  {
   "cell_type": "code",
   "id": "767fb8a9-b502-4035-955e-3af1c664d8e8",
   "metadata": {
    "ExecuteTime": {
     "end_time": "2025-08-30T15:32:10.122033Z",
     "start_time": "2025-08-30T15:32:10.116106Z"
    }
   },
   "source": [
    "print(main_df_with_payments['payment_type'])"
   ],
   "outputs": [
    {
     "name": "stdout",
     "output_type": "stream",
     "text": [
      "0             voucher\n",
      "1              boleto\n",
      "2         credit_card\n",
      "3         credit_card\n",
      "4         credit_card\n",
      "             ...     \n",
      "112645    credit_card\n",
      "112646    credit_card\n",
      "112647    credit_card\n",
      "112648    credit_card\n",
      "112649     debit_card\n",
      "Name: payment_type, Length: 112650, dtype: object\n"
     ]
    }
   ],
   "execution_count": 12
  },
  {
   "cell_type": "code",
   "id": "0fb62efe-0b9f-4762-b779-20195b5fcc5a",
   "metadata": {
    "ExecuteTime": {
     "end_time": "2025-08-30T15:32:13.582815Z",
     "start_time": "2025-08-30T15:32:13.573536Z"
    }
   },
   "source": [
    "def create_realistic_churn_dataset(df):\n",
    "    \"\"\"\n",
    "    create a realistic churn dataset using recency, frequency, and monetary values + business logic \n",
    "    \"\"\"\n",
    "    \n",
    "    print(\"creating churn definition .......\")\n",
    "    \n",
    "    #calculate customer-level features from all data \n",
    "    customer_summary=df.groupby('customer_id').agg({\n",
    "        'price':['sum', 'mean', 'count'],\n",
    "        'freight_value': 'mean',\n",
    "        'total_order_value': 'mean',\n",
    "        'product_category_name': lambda x: x.mode().iloc[0] if not x.empty and len(x.mode()) > 0 else 'unknown',\n",
    "        'product_weight_g': 'mean',\n",
    "        'customer_state': 'first',\n",
    "        'payment_type': lambda x : x.mode().iloc[0] if not x.empty and len(x.mode()) > 0 else 'unknown',\n",
    "        'order_purchase_timestamp': ['min', 'max'],\n",
    "        'order_month': lambda x : x.mode()[0] if not x.empty and len(x.mode()) > 0 else 1,\n",
    "        'is_weekend': lambda x : (x == True).mean()\n",
    "    }).reset_index()\n",
    "    \n",
    "    \n",
    "    #flatten column names \n",
    "    customer_summary.columns = ['customer_id', 'total_spent', 'avg_order_value', 'order_frequency', 'avg_freight', 'avg_total_order', 'favorite_category', \"avg_product_weight\", 'customer_state', 'preferred_payment', 'first_order', 'last_order', 'favorite_month', 'weekend_tendency']\n",
    "    \n",
    "    #calculate RFM metrics \n",
    "    max_date = df['order_purchase_timestamp'].max()\n",
    "    customer_summary['recency_days'] = (max_date - customer_summary['last_order']).dt.days\n",
    "    customer_summary['customer_lifetime_days']=(customer_summary['last_order'] - customer_summary['first_order']).dt.days\n",
    "    customer_summary['avg_days_between_orders'] = customer_summary['customer_lifetime_days']/ (customer_summary['order_frequency'] + 1)\n",
    "    \n",
    "    return customer_summary, max_date\n",
    "\n",
    "\n",
    "def define_churn_business_logic(customer_data):\n",
    "    \"\"\"\n",
    "    Define churn using business logic:\n",
    "    -High recency(have not ordered recently)\n",
    "    -low frequency(few order)\n",
    "    -low monetary value (small spender)\n",
    "    \"\"\"\n",
    "    \n",
    "    #Calculate thresholds based on data distributions \n",
    "    recency_75 = customer_data['recency_days'].quantile(0.75) #top 25% most recent \n",
    "    frequency_25 = customer_data['order_frequency'].quantile(0.25) #buttom 25% frequency\n",
    "    monetary_25 = customer_data['total_spent'].quantile(0.25) #button 25% spending \n",
    "    \n",
    "    print(f\"📊 Churn Thresholds:\")\n",
    "    print(f\"Recency threshold: {recency_75:.0f} days\")\n",
    "    print(f\"Frequency threshold: {frequency_25:.0f} orders\")\n",
    "    print(f\"Monetary threshold: ${monetary_25:.2f}\")\n",
    "          \n",
    "          \n",
    "    #define churn: customers who are poor on at least 2 out of 3 RFM metrics \n",
    "\n",
    "    high_recency = customer_data['recency_days'] > recency_75\n",
    "    low_frequency = customer_data['order_frequency'] <= frequency_25\n",
    "    low_monetary = customer_data['total_spent'] <= monetary_25\n",
    "    \n",
    "    #counting how many \"bad\" RFM scores each customer has\n",
    "    rfm_score = high_recency.astype(int) + low_frequency.astype(int) + low_monetary.astype(int)\n",
    "    \n",
    "    \n",
    "    #churn if 2 or more poor RFM metrics \n",
    "    is_churned =(rfm_score >= 2).astype(int)\n",
    "    \n",
    "    return is_churned\n",
    "\n",
    "\n",
    "def define_churn_percentile_method(customer_data):\n",
    "    \"\"\"\n",
    "    Alternative: used pure percentile-based approach\n",
    "    \n",
    "    \"\"\"\n",
    "    \n",
    "    #combine RFM into a single score \n",
    "    #Normalize each metric(0-1 scale)\n",
    "    \n",
    "    recency_norm = (customer_data['recency_days'] - customer_data['recency_days'].min()) / (customer_data['recency_days'].min())\n",
    "    frequency_norm= 1- ((customer_data['order_frequency'] - customer_data['order_frequency'].min()) / (customer_data['order_frequency'].max() - customer_data['order_frequency'].min()))\n",
    "    monetary_norm = 1 - ((customer_data['total_spent'] - customer_data['total_spent'].min()) / (customer_data['total_spent'].max() - customer_data['total_spent'].min()))\n",
    "    \n",
    "    #comb ine the 3 churn score \n",
    "    churn_score = (recency_norm + frequency_norm + monetary_norm) /3 \n",
    "    \n",
    "    #top 3% of churn score = churned \n",
    "    churn_threshold = churn_score.quantile(0.7)\n",
    "    is_churned = (churn_score >= churn_threshold).astype(int)\n",
    "    \n",
    "    return is_churned\n",
    "\n",
    "\n",
    "    \n",
    "    \n",
    "    \n",
    "\n",
    "\n",
    "\n",
    "\n",
    "\n",
    "\n",
    "\n",
    "\n",
    "\n",
    "    "
   ],
   "outputs": [],
   "execution_count": 14
  },
  {
   "cell_type": "code",
   "id": "64dbe098-ade0-4a98-866a-f5a6f85350d3",
   "metadata": {
    "ExecuteTime": {
     "end_time": "2025-08-30T15:32:58.594038Z",
     "start_time": "2025-08-30T15:32:42.610250Z"
    }
   },
   "source": [
    "#create customer feature \n",
    "customer_features, max_date = create_realistic_churn_dataset(main_df_with_payments\n",
    "                                                            )\n",
    " \n",
    "print(f\"Customer features created is : {customer_features.head()}\")\n",
    "\n",
    "print(f\"Customer feature create tail is : {customer_features.tail()}\")\n",
    "\n",
    "print(f\"Customer features shape is : {customer_features.shape}\")\n",
    "\n",
    "#Trying both churn definitions\n",
    "print(\"\\n Method 1: Business Logic Churn\")\n",
    "churn_business = define_churn_business_logic(customer_features)\n",
    "print(f\"Churn business logic distribution:\")\n",
    "print(f\"Churn Business metrics is :{churn_business.head()}\")\n",
    "\n",
    "print(f\"the unique values of churn business metrics is :{churn_business.nunique()}\")\n",
    "print(f\"Count of churn business metrics is : {churn_business.value_counts()}\")\n",
    "print(f\"Churn  avg rate: {churn_business.mean() *100:.1f}%\")\n",
    "\n",
    "print(\"n\\ Method 2: Percentile-based Churn\")\n",
    "churn_percentile = define_churn_percentile_method(customer_features)\n",
    "print(\"Churn percentile distribution:\")\n",
    "print(f\"Churn percentile distribution dataset is :{churn_percentile.head()}\")\n",
    "print(f\"Churn percentile distribution dataset shape is :{churn_percentile.shape}\")\n",
    "print(f\"Churn Percentile unique value : {churn_percentile.nunique()}\")\n",
    "print(f\"Count of  Churn Percentile unique value : {churn_percentile.value_counts()}\")\n",
    "print(f\" Churn percentile avg rate is: {churn_percentile.mean() *100:.1f}%\")\n",
    "\n",
    "\n",
    "\n",
    "#best approach to use is the business logic approach\n",
    "\n",
    "customer_features['is_churned'] = churn_business\n",
    "\n",
    "print(f\"n\\ Final churn Dataset\")\n",
    "print(f\"shape of the whole dataset is : {customer_features.shape}\")\n",
    "print(f\"the head of the dataset is : {customer_features.head()}\")\n",
    "print(\"Churn distribution:\")\n",
    "print(customer_features['is_churned'].value_counts())\n",
    "print(f\"Final churn rate: {customer_features['is_churned'].mean()*100:.1f}%\")\n",
    "\n",
    " "
   ],
   "outputs": [
    {
     "name": "stdout",
     "output_type": "stream",
     "text": [
      "creating churn definition .......\n",
      "Customer features created is :                         customer_id  total_spent  avg_order_value  \\\n",
      "0  00012a2ce6f8dcda20d059ce98491703        89.80            89.80   \n",
      "1  000161a058600d5901f007fab4c27140        54.90            54.90   \n",
      "2  0001fd6190edaaf884bcaf3d49edf079       179.99           179.99   \n",
      "3  0002414f95344307404f0ace7a26f1d5       149.90           149.90   \n",
      "4  000379cdec625522490c315e70c7a9fb        93.00            93.00   \n",
      "\n",
      "   order_frequency  avg_freight  avg_total_order favorite_category  \\\n",
      "0                1        24.94        2239.6120        brinquedos   \n",
      "1                1        12.51         686.7990      beleza_saude   \n",
      "2                1        15.43        2777.2457             bebes   \n",
      "3                1        29.45        4414.5550        cool_stuff   \n",
      "4                1        14.01        1302.9300   cama_mesa_banho   \n",
      "\n",
      "   avg_product_weight customer_state preferred_payment         first_order  \\\n",
      "0              4267.0             SP       credit_card 2017-11-14 16:08:26   \n",
      "1               150.0             MG       credit_card 2017-07-16 09:40:32   \n",
      "2               750.0             ES       credit_card 2017-02-28 11:06:43   \n",
      "3              1600.0             MG            boleto 2017-08-16 13:09:20   \n",
      "4               800.0             SP            boleto 2018-04-02 13:42:17   \n",
      "\n",
      "           last_order  favorite_month  weekend_tendency  recency_days  \\\n",
      "0 2017-11-14 16:08:26              11               0.0           292   \n",
      "1 2017-07-16 09:40:32               7               1.0           413   \n",
      "2 2017-02-28 11:06:43               2               0.0           551   \n",
      "3 2017-08-16 13:09:20               8               0.0           382   \n",
      "4 2018-04-02 13:42:17               4               0.0           153   \n",
      "\n",
      "   customer_lifetime_days  avg_days_between_orders  \n",
      "0                       0                      0.0  \n",
      "1                       0                      0.0  \n",
      "2                       0                      0.0  \n",
      "3                       0                      0.0  \n",
      "4                       0                      0.0  \n",
      "Customer feature create tail is :                             customer_id  total_spent  avg_order_value  \\\n",
      "98661  fffcb937e9dd47a13f05ecb8290f4d3e         78.0             78.0   \n",
      "98662  fffecc9f79fd8c764f843e9951b11341         54.9             54.9   \n",
      "98663  fffeda5b6d849fbd39689bb92087f431         47.9             47.9   \n",
      "98664  ffff42319e9b2d713724ae527742af25        199.9            199.9   \n",
      "98665  ffffa3172527f765de70084a7e53aae8         21.8             10.9   \n",
      "\n",
      "       order_frequency  avg_freight  avg_total_order       favorite_category  \\\n",
      "98661                1        13.91         1084.980  livros_interesse_geral   \n",
      "98662                1        26.46         1452.654         cama_mesa_banho   \n",
      "98663                1        15.23          729.517               telefonia   \n",
      "98664                1        14.23         2844.577         cama_mesa_banho   \n",
      "98665                2        11.85          129.165        moveis_decoracao   \n",
      "\n",
      "       avg_product_weight customer_state preferred_payment  \\\n",
      "98661              1250.0             SP       credit_card   \n",
      "98662              2050.0             RS           voucher   \n",
      "98663               350.0             RJ       credit_card   \n",
      "98664              2700.0             SP       credit_card   \n",
      "98665               200.0             MG       credit_card   \n",
      "\n",
      "              first_order          last_order  favorite_month  \\\n",
      "98661 2018-03-17 00:55:27 2018-03-17 00:55:27               3   \n",
      "98662 2018-03-29 16:59:26 2018-03-29 16:59:26               3   \n",
      "98663 2018-05-22 13:36:02 2018-05-22 13:36:02               5   \n",
      "98664 2018-06-13 16:57:05 2018-06-13 16:57:05               6   \n",
      "98665 2017-09-02 11:53:32 2017-09-02 11:53:32               9   \n",
      "\n",
      "       weekend_tendency  recency_days  customer_lifetime_days  \\\n",
      "98661               1.0           170                       0   \n",
      "98662               0.0           157                       0   \n",
      "98663               0.0           103                       0   \n",
      "98664               0.0            81                       0   \n",
      "98665               1.0           365                       0   \n",
      "\n",
      "       avg_days_between_orders  \n",
      "98661                      0.0  \n",
      "98662                      0.0  \n",
      "98663                      0.0  \n",
      "98664                      0.0  \n",
      "98665                      0.0  \n",
      "Customer features shape is : (98666, 17)\n",
      "\n",
      " Method 1: Business Logic Churn\n",
      "📊 Churn Thresholds:\n",
      "Recency threshold: 355 days\n",
      "Frequency threshold: 1 orders\n",
      "Monetary threshold: $45.90\n",
      "Churn business logic distribution:\n",
      "Churn Business metrics is :0    0\n",
      "1    1\n",
      "2    1\n",
      "3    1\n",
      "4    0\n",
      "dtype: int64\n",
      "the unique values of churn business metrics is :2\n",
      "Count of churn business metrics is : 0    58568\n",
      "1    40098\n",
      "Name: count, dtype: int64\n",
      "Churn  avg rate: 40.6%\n",
      "n\\ Method 2: Percentile-based Churn\n",
      "Churn percentile distribution:\n",
      "Churn percentile distribution dataset is :0    0\n",
      "1    0\n",
      "2    0\n",
      "3    0\n",
      "4    0\n",
      "dtype: int64\n",
      "Churn percentile distribution dataset shape is :(98666,)\n",
      "Churn Percentile unique value : 1\n",
      "Count of  Churn Percentile unique value : 0    98666\n",
      "Name: count, dtype: int64\n",
      " Churn percentile avg rate is: 0.0%\n",
      "n\\ Final churn Dataset\n",
      "shape of the whole dataset is : (98666, 18)\n",
      "the head of the dataset is :                         customer_id  total_spent  avg_order_value  \\\n",
      "0  00012a2ce6f8dcda20d059ce98491703        89.80            89.80   \n",
      "1  000161a058600d5901f007fab4c27140        54.90            54.90   \n",
      "2  0001fd6190edaaf884bcaf3d49edf079       179.99           179.99   \n",
      "3  0002414f95344307404f0ace7a26f1d5       149.90           149.90   \n",
      "4  000379cdec625522490c315e70c7a9fb        93.00            93.00   \n",
      "\n",
      "   order_frequency  avg_freight  avg_total_order favorite_category  \\\n",
      "0                1        24.94        2239.6120        brinquedos   \n",
      "1                1        12.51         686.7990      beleza_saude   \n",
      "2                1        15.43        2777.2457             bebes   \n",
      "3                1        29.45        4414.5550        cool_stuff   \n",
      "4                1        14.01        1302.9300   cama_mesa_banho   \n",
      "\n",
      "   avg_product_weight customer_state preferred_payment         first_order  \\\n",
      "0              4267.0             SP       credit_card 2017-11-14 16:08:26   \n",
      "1               150.0             MG       credit_card 2017-07-16 09:40:32   \n",
      "2               750.0             ES       credit_card 2017-02-28 11:06:43   \n",
      "3              1600.0             MG            boleto 2017-08-16 13:09:20   \n",
      "4               800.0             SP            boleto 2018-04-02 13:42:17   \n",
      "\n",
      "           last_order  favorite_month  weekend_tendency  recency_days  \\\n",
      "0 2017-11-14 16:08:26              11               0.0           292   \n",
      "1 2017-07-16 09:40:32               7               1.0           413   \n",
      "2 2017-02-28 11:06:43               2               0.0           551   \n",
      "3 2017-08-16 13:09:20               8               0.0           382   \n",
      "4 2018-04-02 13:42:17               4               0.0           153   \n",
      "\n",
      "   customer_lifetime_days  avg_days_between_orders  is_churned  \n",
      "0                       0                      0.0           0  \n",
      "1                       0                      0.0           1  \n",
      "2                       0                      0.0           1  \n",
      "3                       0                      0.0           1  \n",
      "4                       0                      0.0           0  \n",
      "Churn distribution:\n",
      "is_churned\n",
      "0    58568\n",
      "1    40098\n",
      "Name: count, dtype: int64\n",
      "Final churn rate: 40.6%\n"
     ]
    }
   ],
   "execution_count": 15
  },
  {
   "metadata": {},
   "cell_type": "code",
   "outputs": [],
   "execution_count": null,
   "source": "",
   "id": "5136e7c59d5e8f61"
  },
  {
   "cell_type": "markdown",
   "id": "292286b9-8678-4c3b-b843-4bbd7665378e",
   "metadata": {},
   "source": [
    "churn dataset preparation for modeling "
   ]
  },
  {
   "cell_type": "code",
   "id": "e8c27ffc-80c7-43c8-b081-478e125a4c77",
   "metadata": {
    "ExecuteTime": {
     "end_time": "2025-08-30T15:34:39.488173Z",
     "start_time": "2025-08-30T15:34:39.437056Z"
    }
   },
   "source": [
    "#features fro modeling \n",
    "churn_features = ['total_spent', 'avg_order_value', 'order_frequency', 'avg_freight', 'avg_total_order','favorite_category', 'avg_product_weight', 'customer_state', 'preferred_payment', 'favorite_month', 'weekend_tendency', 'recency_days', 'customer_lifetime_days', 'avg_days_between_orders']\n",
    "\n",
    "target_churn = 'is_churned'\n",
    "\n",
    "#prepare data for modeling \n",
    "\n",
    "X_churn =customer_features[churn_features].copy()\n",
    "y_churn = customer_features[target_churn].copy()\n",
    "\n",
    "\n",
    "print(f\"\\nFeatures shape: {X_churn.shape}\")\n",
    "print(f\"Target distribution\")\n",
    "print(y_churn.value_counts())\n",
    "print(X_churn.head(5))"
   ],
   "outputs": [
    {
     "name": "stdout",
     "output_type": "stream",
     "text": [
      "\n",
      "Features shape: (98666, 14)\n",
      "Target distribution\n",
      "is_churned\n",
      "0    58568\n",
      "1    40098\n",
      "Name: count, dtype: int64\n",
      "   total_spent  avg_order_value  order_frequency  avg_freight  \\\n",
      "0        89.80            89.80                1        24.94   \n",
      "1        54.90            54.90                1        12.51   \n",
      "2       179.99           179.99                1        15.43   \n",
      "3       149.90           149.90                1        29.45   \n",
      "4        93.00            93.00                1        14.01   \n",
      "\n",
      "   avg_total_order favorite_category  avg_product_weight customer_state  \\\n",
      "0        2239.6120        brinquedos              4267.0             SP   \n",
      "1         686.7990      beleza_saude               150.0             MG   \n",
      "2        2777.2457             bebes               750.0             ES   \n",
      "3        4414.5550        cool_stuff              1600.0             MG   \n",
      "4        1302.9300   cama_mesa_banho               800.0             SP   \n",
      "\n",
      "  preferred_payment  favorite_month  weekend_tendency  recency_days  \\\n",
      "0       credit_card              11               0.0           292   \n",
      "1       credit_card               7               1.0           413   \n",
      "2       credit_card               2               0.0           551   \n",
      "3            boleto               8               0.0           382   \n",
      "4            boleto               4               0.0           153   \n",
      "\n",
      "   customer_lifetime_days  avg_days_between_orders  \n",
      "0                       0                      0.0  \n",
      "1                       0                      0.0  \n",
      "2                       0                      0.0  \n",
      "3                       0                      0.0  \n",
      "4                       0                      0.0  \n"
     ]
    }
   ],
   "execution_count": 18
  },
  {
   "cell_type": "code",
   "id": "1bd424da-166f-4f7a-9b34-cce77ec83279",
   "metadata": {
    "ExecuteTime": {
     "end_time": "2025-08-30T15:34:43.447612Z",
     "start_time": "2025-08-30T15:34:43.366987Z"
    }
   },
   "source": [
    "#handling the categorical variables \n",
    "categorical_churn_features =['favorite_category', 'customer_state', 'preferred_payment']\n",
    "churn_encoders = {}\n",
    "\n",
    "for col in categorical_churn_features:\n",
    "    le= LabelEncoder()\n",
    "    X_churn[col] =le.fit_transform(X_churn[col].astype(str))\n",
    "    churn_encoders[col] =le\n",
    "\n",
    "#train_test split \n",
    "X_train_churn, X_test_churn, y_train_churn, y_test_churn= train_test_split(X_churn, y_churn, test_size=0.2, random_state=42, stratify= y_churn)\n",
    "\n",
    "print(f\"n\\Training set: {X_train_churn.shape}\")\n",
    "print(f\"n\\Test set: {X_test_churn.shape}\")\n",
    "print(\"Training target distribution\")\n",
    "print(y_train_churn.value_counts())\n",
    "    "
   ],
   "outputs": [
    {
     "name": "stdout",
     "output_type": "stream",
     "text": [
      "n\\Training set: (78932, 14)\n",
      "n\\Test set: (19734, 14)\n",
      "Training target distribution\n",
      "is_churned\n",
      "0    46854\n",
      "1    32078\n",
      "Name: count, dtype: int64\n"
     ]
    }
   ],
   "execution_count": 20
  },
  {
   "cell_type": "code",
   "id": "712fadf3-3ea2-4cdc-aa98-28295bfb864d",
   "metadata": {
    "ExecuteTime": {
     "end_time": "2025-08-30T15:34:47.520597Z",
     "start_time": "2025-08-30T15:34:47.473597Z"
    }
   },
   "source": [
    "#standardization \n",
    "churn_scaler = StandardScaler()\n",
    "X_train_scaled = churn_scaler.fit_transform(X_train_churn)\n",
    "X_test_scaled = churn_scaler.transform(X_test_churn)\n"
   ],
   "outputs": [],
   "execution_count": 21
  },
  {
   "cell_type": "code",
   "id": "268f7f46-84d8-4dde-9dbf-9e83489432fe",
   "metadata": {
    "ExecuteTime": {
     "end_time": "2025-08-30T15:34:57.254652Z",
     "start_time": "2025-08-30T15:34:49.328584Z"
    }
   },
   "source": [
    "#actual churn modeling \n",
    "churn_models= {\n",
    "\"Logstic Regression\" : LogisticRegression(random_state=42, max_iter=1000, class_weight='balanced'),\n",
    "    \"Random Forest classifier\": RandomForestClassifier(n_estimators= 100, random_state=42, class_weight='balanced'),\n",
    "    \"XGBoostClassifier\": XGBClassifier(random_state=42, eval_metrics ='logloss', sclae_pos_weight=2)\n",
    "}\n",
    "\n",
    "#train the model \n",
    "churn_results ={}\n",
    "for name, model in churn_models.items():\n",
    "    print(f\"\\n======{name} (Customer Churn Prediction) =====\")\n",
    "\n",
    "    if name == \"Logistic Regression\":\n",
    "        model.fit(X_train_scaled, y_train_churn)\n",
    "        y_pred_churn = model.predict(X_test_scaled)\n",
    "    else:\n",
    "        model.fit(X_train_churn, y_train_churn)\n",
    "        y_pred_churn =model.predict(X_test_churn)\n",
    "\n",
    "\n",
    "    #Metrics\n",
    "    accuracy= accuracy_score(y_test_churn, y_pred_churn)\n",
    "    churn_results[name] = {\"Accuracy\" : accuracy}\n",
    "\n",
    "    print(f\"Accuracy: {accuracy:.4f}\")\n",
    "    print(\"\\nClassification Report:\")\n",
    "    print(classification_report(y_test_churn, y_pred_churn))\n",
    "\n",
    "    #compare results \n",
    "    churn_df_results = pd.DataFrame(churn_results).T\n",
    "    print(\"\\n=======Customer Churn Prediction Results Comparison =======\")\n",
    "    print(churn_df_results)\n",
    "    \n"
   ],
   "outputs": [
    {
     "name": "stdout",
     "output_type": "stream",
     "text": [
      "\n",
      "======Logstic Regression (Customer Churn Prediction) =====\n",
      "Accuracy: 0.7698\n",
      "\n",
      "Classification Report:\n",
      "              precision    recall  f1-score   support\n",
      "\n",
      "           0       0.84      0.75      0.79     11714\n",
      "           1       0.69      0.80      0.74      8020\n",
      "\n",
      "    accuracy                           0.77     19734\n",
      "   macro avg       0.77      0.77      0.77     19734\n",
      "weighted avg       0.78      0.77      0.77     19734\n",
      "\n",
      "\n",
      "=======Customer Churn Prediction Results Comparison =======\n",
      "                    Accuracy\n",
      "Logstic Regression  0.769839\n",
      "\n",
      "======Random Forest classifier (Customer Churn Prediction) =====\n",
      "Accuracy: 1.0000\n",
      "\n",
      "Classification Report:\n",
      "              precision    recall  f1-score   support\n",
      "\n",
      "           0       1.00      1.00      1.00     11714\n",
      "           1       1.00      1.00      1.00      8020\n",
      "\n",
      "    accuracy                           1.00     19734\n",
      "   macro avg       1.00      1.00      1.00     19734\n",
      "weighted avg       1.00      1.00      1.00     19734\n",
      "\n",
      "\n",
      "=======Customer Churn Prediction Results Comparison =======\n",
      "                          Accuracy\n",
      "Logstic Regression        0.769839\n",
      "Random Forest classifier  1.000000\n",
      "\n",
      "======XGBoostClassifier (Customer Churn Prediction) =====\n",
      "Accuracy: 0.9994\n",
      "\n",
      "Classification Report:\n",
      "              precision    recall  f1-score   support\n",
      "\n",
      "           0       1.00      1.00      1.00     11714\n",
      "           1       1.00      1.00      1.00      8020\n",
      "\n",
      "    accuracy                           1.00     19734\n",
      "   macro avg       1.00      1.00      1.00     19734\n",
      "weighted avg       1.00      1.00      1.00     19734\n",
      "\n",
      "\n",
      "=======Customer Churn Prediction Results Comparison =======\n",
      "                          Accuracy\n",
      "Logstic Regression        0.769839\n",
      "Random Forest classifier  1.000000\n",
      "XGBoostClassifier         0.999392\n"
     ]
    }
   ],
   "execution_count": 22
  },
  {
   "metadata": {},
   "cell_type": "code",
   "outputs": [],
   "execution_count": null,
   "source": "",
   "id": "22592734df4a328f"
  },
  {
   "cell_type": "markdown",
   "id": "4798fd64-63ca-41c8-9c9c-75ae842b9db4",
   "metadata": {},
   "source": [
    "Getting the Feature Importance "
   ]
  },
  {
   "cell_type": "code",
   "id": "7e5d9ad7-5dbf-420c-ba21-ad63d697e343",
   "metadata": {
    "ExecuteTime": {
     "end_time": "2025-08-30T15:37:15.028588Z",
     "start_time": "2025-08-30T15:37:14.992636Z"
    }
   },
   "source": [
    "if \"Random Forest classifier\" in churn_models:\n",
    "    feature_importance = pd.DataFrame({\n",
    "        'feature': churn_features,\n",
    "        'importance' : churn_models['Random Forest classifier'].feature_importances_\n",
    "    }).sort_values('importance', ascending=False)\n",
    "\n",
    "    print(\"\\nTop 5 Churn Drivers\")\n",
    "    print(feature_importance.head())\n",
    "    \n",
    "\n",
    "print(\"\\n Churn prediction model Complete\")\n",
    "print(\"Realistic churn distribution\")\n",
    "print(\"Binary classification (0=Stay, 1= Churn\")\n",
    "print(\"Multiple model compared\")\n",
    "print(\"Feature Importance identified\") \n",
    "        "
   ],
   "outputs": [
    {
     "name": "stdout",
     "output_type": "stream",
     "text": [
      "\n",
      "Top 5 Churn Drivers\n",
      "            feature  importance\n",
      "11     recency_days    0.445784\n",
      "0       total_spent    0.236400\n",
      "1   avg_order_value    0.154590\n",
      "2   order_frequency    0.069680\n",
      "4   avg_total_order    0.046057\n",
      "\n",
      " Churn prediction model Complete\n",
      "Realistic churn distribution\n",
      "Binary classification (0=Stay, 1= Churn\n",
      "Multiple model compared\n",
      "Feature Importance identified\n"
     ]
    }
   ],
   "execution_count": 23
  },
  {
   "cell_type": "code",
   "id": "1e223604-050d-469a-be4c-fa064e2e36a3",
   "metadata": {
    "ExecuteTime": {
     "end_time": "2025-08-30T15:37:16.987150Z",
     "start_time": "2025-08-30T15:37:16.970201Z"
    }
   },
   "source": [
    "print(\"🌳 WHAT RANDOM FOREST LEARNED:\")\n",
    "print(\"Decision Tree Logic (simplified):\")\n",
    "print(\"IF recency_days > 355 AND total_spent <= 45.90:\")\n",
    "print(\"    → CHURN (1)\")\n",
    "print(\"ELIF recency_days > 355 AND order_frequency <= 1:\")\n",
    "print(\"    → CHURN (1)\") \n",
    "print(\"ELSE:\")\n",
    "print(\"    → LOYAL (0)\")\n",
    "\n",
    "# Random Forest captures these patterns PERFECTLY!"
   ],
   "outputs": [
    {
     "name": "stdout",
     "output_type": "stream",
     "text": [
      "🌳 WHAT RANDOM FOREST LEARNED:\n",
      "Decision Tree Logic (simplified):\n",
      "IF recency_days > 355 AND total_spent <= 45.90:\n",
      "    → CHURN (1)\n",
      "ELIF recency_days > 355 AND order_frequency <= 1:\n",
      "    → CHURN (1)\n",
      "ELSE:\n",
      "    → LOYAL (0)\n"
     ]
    }
   ],
   "execution_count": 24
  },
  {
   "cell_type": "code",
   "id": "21cf080c-4ef1-41dc-8fee-1546811d9a13",
   "metadata": {
    "ExecuteTime": {
     "end_time": "2025-06-09T16:27:39.985622Z",
     "start_time": "2025-06-09T16:27:39.978318Z"
    }
   },
   "source": [
    "print(\"🔍 FEATURE IMPORTANCE ANALYSIS:\")\n",
    "print(\"1. recency_days (44.3%) - DOMINANT predictor\")\n",
    "print(\"   • If > 355 days → likely churn\")\n",
    "print(\"   • Clear threshold-based rule\")\n",
    "\n",
    "print(\"2. total_spent (24.4%) - Secondary predictor\") \n",
    "print(\"   • If < $45.90 → likely churn\")\n",
    "print(\"   • Another clear threshold\")\n",
    "\n",
    "print(\"3. avg_order_value (14.6%) - Supporting predictor\")\n",
    "print(\"   • Correlated with total_spent\")\n",
    "\n",
    "print(\"4. order_frequency (7.1%) - Minor predictor\")\n",
    "print(\"   • Most customers have 1 order anyway\")"
   ],
   "outputs": [
    {
     "name": "stdout",
     "output_type": "stream",
     "text": [
      "🔍 FEATURE IMPORTANCE ANALYSIS:\n",
      "1. recency_days (44.3%) - DOMINANT predictor\n",
      "   • If > 355 days → likely churn\n",
      "   • Clear threshold-based rule\n",
      "2. total_spent (24.4%) - Secondary predictor\n",
      "   • If < $45.90 → likely churn\n",
      "   • Another clear threshold\n",
      "3. avg_order_value (14.6%) - Supporting predictor\n",
      "   • Correlated with total_spent\n",
      "4. order_frequency (7.1%) - Minor predictor\n",
      "   • Most customers have 1 order anyway\n"
     ]
    }
   ],
   "execution_count": 20
  },
  {
   "cell_type": "code",
   "id": "a14aa382-3ca0-45a5-b7dd-1d5c2bb36641",
   "metadata": {
    "ExecuteTime": {
     "end_time": "2025-08-30T15:38:22.593309Z",
     "start_time": "2025-08-30T15:38:22.585990Z"
    }
   },
   "source": [
    "#saving the best model  -method 1\n",
    "#with open(\"logistic_regression_model.pkl\", \"wb\") as f:\n",
    "    #pickle.dump(churn_models[\"Logistic Regression\"], f)\n",
    "    \n",
    "#with open(\"random_forest_model.pkl\", \"wb\") as f:\n",
    "    #pickle.dump(churn_models[\"Random Forest classifier\"], f)\n",
    "    \n",
    "#with open(\"xgboost_model.pkl\", \"wb\") as f:\n",
    "    #pickle.dump(churn_models[\"XGBoostClassifier\"], f)\n",
    "    \n",
    "import joblib   \n",
    "joblib.dump(churn_models[\"Logstic Regression\"], 'logistic_regression_model.joblib')\n",
    "\n",
    "\n"
   ],
   "outputs": [
    {
     "data": {
      "text/plain": [
       "['logistic_regression_model.joblib']"
      ]
     },
     "execution_count": 29,
     "metadata": {},
     "output_type": "execute_result"
    }
   ],
   "execution_count": 29
  },
  {
   "metadata": {
    "ExecuteTime": {
     "end_time": "2025-08-30T15:38:25.280600Z",
     "start_time": "2025-08-30T15:38:25.242700Z"
    }
   },
   "cell_type": "code",
   "source": "joblib.dump(churn_models[\"Random Forest classifier\"], 'random_forest_model.joblib')",
   "id": "b9aed041ab6b2453",
   "outputs": [
    {
     "data": {
      "text/plain": [
       "['random_forest_model.joblib']"
      ]
     },
     "execution_count": 30,
     "metadata": {},
     "output_type": "execute_result"
    }
   ],
   "execution_count": 30
  },
  {
   "metadata": {
    "ExecuteTime": {
     "end_time": "2025-08-30T15:38:27.117143Z",
     "start_time": "2025-08-30T15:38:27.108414Z"
    }
   },
   "cell_type": "code",
   "source": "joblib.dump(churn_models[\"XGBoostClassifier\"], 'xgboost_model.joblib')\n",
   "id": "4ef3d47dd4a23cfd",
   "outputs": [
    {
     "data": {
      "text/plain": [
       "['xgboost_model.joblib']"
      ]
     },
     "execution_count": 31,
     "metadata": {},
     "output_type": "execute_result"
    }
   ],
   "execution_count": 31
  },
  {
   "metadata": {
    "ExecuteTime": {
     "end_time": "2025-08-30T15:38:32.241356Z",
     "start_time": "2025-08-30T15:38:32.231783Z"
    }
   },
   "cell_type": "code",
   "source": [
    "\n",
    "joblib.dump(churn_scaler, 'churn_scaler.joblib')"
   ],
   "id": "136950e1d2584473",
   "outputs": [
    {
     "data": {
      "text/plain": [
       "['churn_scaler.joblib']"
      ]
     },
     "execution_count": 32,
     "metadata": {},
     "output_type": "execute_result"
    }
   ],
   "execution_count": 32
  },
  {
   "metadata": {
    "ExecuteTime": {
     "end_time": "2025-08-30T15:44:22.226269Z",
     "start_time": "2025-08-30T15:44:22.183921Z"
    }
   },
   "cell_type": "code",
   "source": [
    "#save tge features \n",
    "\n",
    "print(\"All model and preprocessor saved successfully\")\n",
    "feature_order = churn_features\n",
    "joblib.dump(feature_order, 'feature_order.pkl')\n",
    "\n"
   ],
   "id": "7d2d8e5394eab383",
   "outputs": [
    {
     "name": "stdout",
     "output_type": "stream",
     "text": [
      "All model and preprocessor saved successfully\n"
     ]
    }
   ],
   "execution_count": 33
  },
  {
   "metadata": {
    "ExecuteTime": {
     "end_time": "2025-08-30T15:45:26.315038Z",
     "start_time": "2025-08-30T15:45:26.274471Z"
    }
   },
   "cell_type": "code",
   "source": [
    "# In your training script, save the most common values\n",
    "most_common_categories = {\n",
    "    'favorite_category': X_churn['favorite_category'].mode()[0],\n",
    "    'customer_state': X_churn['customer_state'].mode()[0], \n",
    "    'preferred_payment': X_churn['preferred_payment'].mode()[0]\n",
    "}\n",
    "joblib.dump(most_common_categories, 'default_categories.joblib')"
   ],
   "id": "5e9fa6533ebee5f6",
   "outputs": [
    {
     "data": {
      "text/plain": [
       "['default_categories.joblib']"
      ]
     },
     "execution_count": 34,
     "metadata": {},
     "output_type": "execute_result"
    }
   ],
   "execution_count": 34
  }
 ],
 "metadata": {
  "kernelspec": {
   "display_name": "Python (base)",
   "language": "python",
   "name": "base"
  },
  "language_info": {
   "codemirror_mode": {
    "name": "ipython",
    "version": 3
   },
   "file_extension": ".py",
   "mimetype": "text/x-python",
   "name": "python",
   "nbconvert_exporter": "python",
   "pygments_lexer": "ipython3",
   "version": "3.12.2"
  }
 },
 "nbformat": 4,
 "nbformat_minor": 5
}
