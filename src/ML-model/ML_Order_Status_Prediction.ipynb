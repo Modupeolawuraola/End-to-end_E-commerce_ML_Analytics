{
 "cells": [
  {
   "cell_type": "code",
   "id": "initial_id",
   "metadata": {
    "ExecuteTime": {
     "end_time": "2025-06-04T18:24:41.214021Z",
     "start_time": "2025-06-04T18:24:41.142679Z"
    }
   },
   "source": [
    "import os\n",
    "import numpy as np \n",
    "import pandas as pd\n",
    "import matplotlib.pyplot as plt \n",
    "import seaborn as sns\n",
    "from fontTools.misc.classifyTools import Classifier\n",
    "from numba.np.random.distributions import random_standard_exponential\n",
    "from pandas.core.common import random_state\n",
    "from sklearn.model_selection import train_test_split\n",
    "from sklearn.preprocessing import StandardScaler, LabelEncoder, MinMaxScaler\n",
    "from sklearn.linear_model import LinearRegression\n",
    "from sklearn.ensemble import RandomForestRegressor\n",
    "from xgboost import XGBRegressor \n",
    "from sklearn.metrics import mean_squared_error, r2_score, mean_absolute_error \n",
    "from sklearn.metrics import accuracy_score\n",
    "from sklearn.metrics import f1_score\n",
    "\n",
    "from sklearn.linear_model import LogisticRegression\n",
    "from sklearn.ensemble import RandomForestClassifier\n",
    "from xgboost import XGBClassifier\n",
    "\n",
    "\n",
    "from sklearn.metrics import classification_report, confusion_matrix, accuracy_score\n",
    "\n",
    "\n",
    "import warnings\n",
    "warnings.filterwarnings('ignore')\n",
    "import pickle "
   ],
   "outputs": [],
   "execution_count": 7
  },
  {
   "cell_type": "code",
   "id": "e78a3f05-daec-4f5f-96bb-bc5275f55333",
   "metadata": {
    "ExecuteTime": {
     "end_time": "2025-06-04T18:24:45.646093Z",
     "start_time": "2025-06-04T18:24:44.697597Z"
    }
   },
   "source": [
    "import kagglehub \n",
    "path=kagglehub.dataset_download(\"olistbr/brazilian-ecommerce\")\n",
    "print('path to dataset file:', path)"
   ],
   "outputs": [
    {
     "name": "stdout",
     "output_type": "stream",
     "text": [
      "Warning: Looks like you're using an outdated `kagglehub` version (installed: 0.3.8), please consider upgrading to the latest version (0.3.12).\n",
      "path to dataset file: /Users/modupeolafagbenro/.cache/kagglehub/datasets/olistbr/brazilian-ecommerce/versions/2\n"
     ]
    }
   ],
   "execution_count": 8
  },
  {
   "cell_type": "code",
   "id": "268815b3-64a7-4eb5-af29-dabeff524828",
   "metadata": {
    "ExecuteTime": {
     "end_time": "2025-06-04T18:24:47.623090Z",
     "start_time": "2025-06-04T18:24:47.618071Z"
    }
   },
   "source": [
    "files= os.listdir(path)\n",
    "print(\"files in the directory path and the dataset inside:\")\n",
    "for file in files:\n",
    "    print(file)"
   ],
   "outputs": [
    {
     "name": "stdout",
     "output_type": "stream",
     "text": [
      "files in the directory path and the dataset inside:\n",
      "olist_sellers_dataset.csv\n",
      "product_category_name_translation.csv\n",
      "olist_orders_dataset.csv\n",
      "olist_order_items_dataset.csv\n",
      "olist_customers_dataset.csv\n",
      "olist_geolocation_dataset.csv\n",
      "olist_order_payments_dataset.csv\n",
      "olist_order_reviews_dataset.csv\n",
      "olist_products_dataset.csv\n"
     ]
    }
   ],
   "execution_count": 9
  },
  {
   "cell_type": "code",
   "id": "de2fbdcd-42d5-4f02-adfa-e308e1fe463d",
   "metadata": {
    "ExecuteTime": {
     "end_time": "2025-06-04T18:24:49.759421Z",
     "start_time": "2025-06-04T18:24:49.754734Z"
    }
   },
   "source": [
    "#load the dataset from preporocesing \n",
    "def load_clean_dataset():\n",
    "    \" Loading clean preprocessed dataset\"\"\"\n",
    "    try:\n",
    "        with open(\"../data/processed/main_df_cleaned.pkl\", \"rb\") as f:\n",
    "            main_df = pickle.load(f)\n",
    "            print(f\"Loading clean data from data preprocessing: {main_df.shape}\")\n",
    "            return main_df  \n",
    "    except FileNotFoundError:\n",
    "        print(\"File is not found: Run data preprocessing file\")\n",
    "        return None\n",
    "        \n",
    "    "
   ],
   "outputs": [],
   "execution_count": 10
  },
  {
   "cell_type": "code",
   "id": "cec68672-1acf-4d1b-b2c8-bd703c0f5654",
   "metadata": {
    "ExecuteTime": {
     "end_time": "2025-06-04T18:24:54.032250Z",
     "start_time": "2025-06-04T18:24:53.830476Z"
    }
   },
   "source": [
    "main_df = load_clean_dataset()\n",
    "\n",
    "if main_df is not None:\n",
    "    print(\"data loading\")\n",
    "    print(main_df.head(5))"
   ],
   "outputs": [
    {
     "name": "stdout",
     "output_type": "stream",
     "text": [
      "Loading clean data from data preprocessing: (112650, 33)\n",
      "data loading\n",
      "                           order_id                       customer_id  \\\n",
      "0  e481f51cbdc54678b7cc49136f2d6af7  9ef432eb6251297304e76186b10a928d   \n",
      "1  53cdb2fc8bc7dce0b6741e2150273451  b0830fb4747a6c6d20dea0b8c802d7ef   \n",
      "2  47770eb9100c2d0c44946d9cf07ec65d  41ce2a54c0b03bf3443c3d931a367089   \n",
      "3  949d5b44dbf5de918fe9c16f97b45f8a  f88197465ea7920adcdbec7375364d82   \n",
      "4  ad21c59c0840e6cb83a9ceb5573f8159  8ab97904e6daea8866dbdbc4fb7aad2c   \n",
      "\n",
      "  order_status order_purchase_timestamp   order_approved_at  \\\n",
      "0    delivered      2017-10-02 10:56:33 2017-10-02 11:07:15   \n",
      "1    delivered      2018-07-24 20:41:37 2018-07-26 03:24:27   \n",
      "2    delivered      2018-08-08 08:38:49 2018-08-08 08:55:23   \n",
      "3    delivered      2017-11-18 19:28:06 2017-11-18 19:45:59   \n",
      "4    delivered      2018-02-13 21:18:39 2018-02-13 22:20:29   \n",
      "\n",
      "  order_delivered_carrier_date order_delivered_customer_date  \\\n",
      "0          2017-10-04 19:55:00           2017-10-10 21:25:13   \n",
      "1          2018-07-26 14:31:00           2018-08-07 15:27:45   \n",
      "2          2018-08-08 13:50:00           2018-08-17 18:06:29   \n",
      "3          2017-11-22 13:39:59           2017-12-02 00:28:42   \n",
      "4          2018-02-14 19:46:34           2018-02-16 18:17:02   \n",
      "\n",
      "  order_estimated_delivery_date  order_item_id  \\\n",
      "0                    2017-10-18              1   \n",
      "1                    2018-08-13              1   \n",
      "2                    2018-09-04              1   \n",
      "3                    2017-12-15              1   \n",
      "4                    2018-02-26              1   \n",
      "\n",
      "                         product_id  ... product_length_cm product_height_cm  \\\n",
      "0  87285b34884572647811a353c7ac498a  ...              19.0               8.0   \n",
      "1  595fac2a385ac33a80bd5114aec74eb8  ...              19.0              13.0   \n",
      "2  aa4383b373c6aca5d8797843e5594415  ...              24.0              19.0   \n",
      "3  d0b61bfb1de832b15ba9d266ca96e5b0  ...              30.0              10.0   \n",
      "4  65266b2da20d04dbe00c5c2d3bb7859e  ...              51.0              15.0   \n",
      "\n",
      "   product_width_cm  order_year order_month  order_day_of_week order_hour  \\\n",
      "0              13.0        2017          10                  0         10   \n",
      "1              19.0        2018           7                  1         20   \n",
      "2              21.0        2018           8                  2          8   \n",
      "3              20.0        2017          11                  5         19   \n",
      "4              15.0        2018           2                  1         21   \n",
      "\n",
      "  delivery_days total_order_value  is_weekend  \n",
      "0           8.0          261.5128       False  \n",
      "1          13.0         2701.6120       False  \n",
      "2           9.0         3073.2780       False  \n",
      "3          13.0         1224.0000        True  \n",
      "4           2.0          173.5280       False  \n",
      "\n",
      "[5 rows x 33 columns]\n"
     ]
    }
   ],
   "execution_count": 11
  },
  {
   "cell_type": "markdown",
   "id": "ce212e29-e51d-458e-982a-8b7fc447cf3c",
   "metadata": {},
   "source": [
    "Modeling-Regression, Classification and Ensemble Method model"
   ]
  },
  {
   "cell_type": "code",
   "id": "c0647d7d-17c7-4500-9f80-eb55df55ccb4",
   "metadata": {
    "ExecuteTime": {
     "end_time": "2025-06-04T18:24:59.996487Z",
     "start_time": "2025-06-04T18:24:57.270703Z"
    }
   },
   "source": [
    "#merge the payment dataset with the clean dataset for modeling purposes\n",
    "payment_df=pd.read_csv(os.path.join(path, \"olist_order_payments_dataset.csv\"))\n",
    "\n",
    "#get primary payment method or order(most common payment method for each order)\n",
    "primary_payments =payment_df.groupby('order_id').agg({\n",
    "    'payment_type': lambda x: x.mode()[0], \n",
    "    'payment_value': 'sum' \n",
    "}).reset_index()\n",
    "\n",
    "#merge with your current main_df\n",
    "main_df_with_payments = main_df.merge(primary_payments, on='order_id', how='left')\n",
    "\n",
    "print(f\"Shape before:{main_df.shape}\")\n",
    "print(f\"shape after :{main_df.shape}\")"
   ],
   "outputs": [
    {
     "name": "stdout",
     "output_type": "stream",
     "text": [
      "Shape before:(112650, 33)\n",
      "shape after :(112650, 33)\n"
     ]
    }
   ],
   "execution_count": 12
  },
  {
   "cell_type": "code",
   "id": "f8839bc0-86ea-4828-9cda-7a8bf1f4fae4",
   "metadata": {
    "ExecuteTime": {
     "end_time": "2025-06-04T18:25:02.453646Z",
     "start_time": "2025-06-04T18:25:02.435036Z"
    }
   },
   "source": [
    "main_df_with_payments.columns"
   ],
   "outputs": [
    {
     "data": {
      "text/plain": [
       "Index(['order_id', 'customer_id', 'order_status', 'order_purchase_timestamp',\n",
       "       'order_approved_at', 'order_delivered_carrier_date',\n",
       "       'order_delivered_customer_date', 'order_estimated_delivery_date',\n",
       "       'order_item_id', 'product_id', 'seller_id', 'shipping_limit_date',\n",
       "       'price', 'freight_value', 'customer_unique_id',\n",
       "       'customer_zip_code_prefix', 'customer_city', 'customer_state',\n",
       "       'product_category_name', 'product_name_lenght',\n",
       "       'product_description_lenght', 'product_photos_qty', 'product_weight_g',\n",
       "       'product_length_cm', 'product_height_cm', 'product_width_cm',\n",
       "       'order_year', 'order_month', 'order_day_of_week', 'order_hour',\n",
       "       'delivery_days', 'total_order_value', 'is_weekend', 'payment_type',\n",
       "       'payment_value'],\n",
       "      dtype='object')"
      ]
     },
     "execution_count": 13,
     "metadata": {},
     "output_type": "execute_result"
    }
   ],
   "execution_count": 13
  },
  {
   "cell_type": "code",
   "id": "e7959deb-53e4-4382-859d-418281d99b74",
   "metadata": {
    "ExecuteTime": {
     "end_time": "2025-06-04T18:25:04.915741Z",
     "start_time": "2025-06-04T18:25:04.858906Z"
    }
   },
   "source": [
    "#checking if the dataset has null values \n",
    "print(\"Null values in the modeling dataset\")\n",
    "print(main_df_with_payments.isnull().sum())"
   ],
   "outputs": [
    {
     "name": "stdout",
     "output_type": "stream",
     "text": [
      "Null values in the modeling dataset\n",
      "order_id                            0\n",
      "customer_id                         0\n",
      "order_status                        0\n",
      "order_purchase_timestamp            0\n",
      "order_approved_at                   0\n",
      "order_delivered_carrier_date     1194\n",
      "order_delivered_customer_date    2454\n",
      "order_estimated_delivery_date       0\n",
      "order_item_id                       0\n",
      "product_id                          0\n",
      "seller_id                           0\n",
      "shipping_limit_date                 0\n",
      "price                               0\n",
      "freight_value                       0\n",
      "customer_unique_id                  0\n",
      "customer_zip_code_prefix            0\n",
      "customer_city                       0\n",
      "customer_state                      0\n",
      "product_category_name               0\n",
      "product_name_lenght                 0\n",
      "product_description_lenght          0\n",
      "product_photos_qty                  0\n",
      "product_weight_g                    0\n",
      "product_length_cm                   0\n",
      "product_height_cm                   0\n",
      "product_width_cm                    0\n",
      "order_year                          0\n",
      "order_month                         0\n",
      "order_day_of_week                   0\n",
      "order_hour                          0\n",
      "delivery_days                    2454\n",
      "total_order_value                   0\n",
      "is_weekend                          0\n",
      "payment_type                        3\n",
      "payment_value                       3\n",
      "dtype: int64\n"
     ]
    }
   ],
   "execution_count": 14
  },
  {
   "cell_type": "markdown",
   "id": "0bf8e2d8-4ecb-4855-b054-3ad7eec6c0db",
   "metadata": {},
   "source": [
    "The above null values are business logic - those null values are meaningfuk , business wise # These are NULL because orders haven't been delivered yet!\n",
    "order_delivered_carrier_date: 1194 nulls    # Orders not shipped yet\n",
    "order_delivered_customer_date: 2454 nulls   # Orders not delivered yet  \n",
    "total_order_value: 2454 nulls               # Same orders (can't calculate without delivery"
   ]
  },
  {
   "cell_type": "code",
   "id": "0d118336-bfbb-48da-b9f5-e18b5e9a2bc0",
   "metadata": {
    "ExecuteTime": {
     "end_time": "2025-06-04T18:25:08.512739Z",
     "start_time": "2025-06-04T18:25:08.507683Z"
    }
   },
   "source": [
    "#dropping other irrelevant columns -all the ids are irrelevant columns\n",
    "columns_to_drop=[\n",
    "    #id is not predictive)\n",
    "    'order_id', 'customer_id', 'customer_unique_id', 'product_id', 'seller_id',\n",
    "    #date (we already extract relevant data and cols using this columns so we do not need it again\n",
    "    'order_purchase_timestamp', 'order_approved_at', 'order_delivered_carrier_date','order_delivered_customer_date', 'order_estimated_delivery_date', 'shipping_limit_date',\n",
    "    #target leakage(these reveal the answer) its same thing has price \n",
    "    'payment_value', \n",
    "    #redundant\n",
    "    'order_item_id', 'customer_city' #customer state is enough\n",
    "]"
   ],
   "outputs": [],
   "execution_count": 15
  },
  {
   "cell_type": "markdown",
   "id": "24d54030-fc04-4bd8-ba53-4b34e01c3584",
   "metadata": {},
   "source": [
    "Order Value Prediction"
   ]
  },
  {
   "cell_type": "code",
   "id": "6be0765e-6550-4b9e-8cc9-cac26b298ea5",
   "metadata": {
    "ExecuteTime": {
     "end_time": "2025-06-04T18:25:31.903136Z",
     "start_time": "2025-06-04T18:25:31.896838Z"
    }
   },
   "source": [
    "#regression and ensemble modeling -order value opredictions \n",
    "R_Features =['product_category_name', 'product_weight_g', 'product_length_cm','product_height_cm', 'product_width_cm','product_photos_qty','product_name_lenght', 'product_description_lenght','customer_state', 'customer_zip_code_prefix','freight_value', 'order_month', 'order_day_of_week', 'order_hour', 'is_weekend','payment_type']\n",
    "\n",
    "target_regression = 'price'"
   ],
   "outputs": [],
   "execution_count": 18
  },
  {
   "cell_type": "markdown",
   "id": "afb4b954-3314-41f3-a303-4e98f7c8fe82",
   "metadata": {},
   "source": [
    "Partitioning Datasety X and y set for the model training"
   ]
  },
  {
   "cell_type": "code",
   "id": "8ddb97e7-615c-4431-9e70-230d1ce51515",
   "metadata": {
    "ExecuteTime": {
     "end_time": "2025-06-04T18:25:34.526891Z",
     "start_time": "2025-06-04T18:25:34.458976Z"
    }
   },
   "source": [
    "X = main_df_with_payments[R_Features].copy()\n",
    "y=main_df_with_payments[target_regression]\n",
    "\n",
    "print(f\"model features shape: {X.shape}\")\n",
    "print(f\"Target shape:{y.shape}\")\n",
    "\n",
    "#handling categorical variables \n",
    "label_encoder= {}\n",
    "categorical_col=['product_category_name', 'customer_state', 'payment_type']\n",
    "\n",
    "for col in categorical_col:\n",
    "    le=LabelEncoder()\n",
    "    X[col]=le.fit_transform(X[col])\n",
    "    label_encoder[col]=le\n",
    "\n",
    "#train_test split\n",
    "X_train, X_test, y_train, y_test= train_test_split(X, y, test_size=0.2, random_state=42)\n",
    "\n",
    "print(f\"Training set: {X_train.shape}\")\n",
    "print(f\"Test set: {y_test.shape}\")"
   ],
   "outputs": [
    {
     "name": "stdout",
     "output_type": "stream",
     "text": [
      "model features shape: (112650, 16)\n",
      "Target shape:(112650,)\n",
      "Training set: (90120, 16)\n",
      "Test set: (22530,)\n"
     ]
    }
   ],
   "execution_count": 19
  },
  {
   "cell_type": "markdown",
   "id": "e0277fbd-cf15-4d54-b99e-26ce66c88f16",
   "metadata": {},
   "source": [
    "Feature Scaling"
   ]
  },
  {
   "cell_type": "code",
   "id": "bd40f9f9-cb05-4d64-8e1b-f24c17e244e6",
   "metadata": {
    "ExecuteTime": {
     "end_time": "2025-06-04T18:25:37.723580Z",
     "start_time": "2025-06-04T18:25:37.650599Z"
    }
   },
   "source": [
    "#using standardization -important for linear Regression \n",
    "scaler = StandardScaler()\n",
    "X_train_scaled=scaler.fit_transform(X_train)\n",
    "X_test_scaled = scaler.transform(X_test)\n",
    "\n",
    "print(\"Data successfully scaled\")"
   ],
   "outputs": [
    {
     "name": "stdout",
     "output_type": "stream",
     "text": [
      "Data successfully scaled\n"
     ]
    }
   ],
   "execution_count": 20
  },
  {
   "cell_type": "markdown",
   "id": "08d89b25-3348-42b7-b2a2-adc09ae72153",
   "metadata": {},
   "source": [
    "Modelling Multiple Regression Model"
   ]
  },
  {
   "cell_type": "code",
   "id": "695ee5b7-64bf-4802-aec6-1f183b00372b",
   "metadata": {
    "ExecuteTime": {
     "end_time": "2025-06-04T18:26:26.907576Z",
     "start_time": "2025-06-04T18:25:41.040614Z"
    }
   },
   "source": [
    "#intialiazed the models \n",
    "models= {\n",
    "    'Linear Regression' :LinearRegression(),\n",
    "    'Random Forest Regressor' : RandomForestRegressor(n_estimators=100, random_state=42),\n",
    "    'XGBoost Regressor': XGBRegressor(n_estimators=100, random_state=42)\n",
    "    \n",
    "}\n",
    "\n",
    "result = {}\n",
    "for name, model in models.items():\n",
    "    print(f\"\\n====={name}=====\")\n",
    "\n",
    "    #use scaled data for linear regression, original for the ensemble tree-based model\n",
    "    if name == 'Linear Regression':\n",
    "        model.fit(X_train_scaled, y_train)\n",
    "        y_pred=model.predict(X_test_scaled)\n",
    "    else:\n",
    "        model.fit(X_train, y_train)\n",
    "        y_pred= model.predict(X_test)\n",
    "\n",
    "    #calculate the metrics \n",
    "    mse= mean_squared_error(y_test, y_pred)\n",
    "    rmse= mse **0.5\n",
    "    mae = mean_absolute_error(y_test, y_pred)\n",
    "    r2= r2_score(y_test, y_pred)\n",
    "\n",
    "    result[name] ={'RMSE': rmse, 'MAE': mae, 'R2':r2}\n",
    "    print(f\"RMSE: {rmse:.2f}\")\n",
    "    print(f\"MAE: {mae:.2f}\")\n",
    "    print(f\"R2 : {r2:.2f}\")\n",
    "\n",
    "\n",
    "#compare result \n",
    "result_df = pd.DataFrame(result).T\n",
    "print(\"\\n======Model Comparison =====\")\n",
    "print(result_df)\n",
    "\n",
    "        \n",
    "    "
   ],
   "outputs": [
    {
     "name": "stdout",
     "output_type": "stream",
     "text": [
      "\n",
      "=====Linear Regression=====\n",
      "RMSE: 154.71\n",
      "MAE: 76.86\n",
      "R2 : 0.21\n",
      "\n",
      "=====Random Forest Regressor=====\n",
      "RMSE: 107.19\n",
      "MAE: 36.24\n",
      "R2 : 0.62\n",
      "\n",
      "=====XGBoost Regressor=====\n",
      "RMSE: 113.73\n",
      "MAE: 48.84\n",
      "R2 : 0.57\n",
      "\n",
      "======Model Comparison =====\n",
      "                               RMSE        MAE        R2\n",
      "Linear Regression        154.707894  76.863631  0.205336\n",
      "Random Forest Regressor  107.185968  36.235794  0.618553\n",
      "XGBoost Regressor        113.731727  48.842760  0.570541\n"
     ]
    }
   ],
   "execution_count": 21
  },
  {
   "cell_type": "code",
   "id": "7e2852bb-2fad-4c01-a051-a8a78ef04385",
   "metadata": {
    "ExecuteTime": {
     "end_time": "2025-06-04T18:26:41.351437Z",
     "start_time": "2025-06-04T18:26:41.344407Z"
    }
   },
   "source": [
    "# Random Forest Performance:\n",
    "print(\"Random Forest for Price Prediction:\")\n",
    "print(\"✅ Can predict order values within ±$36 on average\")\n",
    "print(\"✅ Explains 62% of pricing patterns\") \n",
    "print(\"✅ Good enough for business decisions!\")\n",
    "\n",
    "# Use cases:\n",
    "print(\"\\nBusiness Applications:\")\n",
    "print(\"• Dynamic pricing strategies\")\n",
    "print(\"• Revenue forecasting\") \n",
    "print(\"• Inventory planning\")\n",
    "print(\"• Customer segment analysis\")"
   ],
   "outputs": [
    {
     "name": "stdout",
     "output_type": "stream",
     "text": [
      "Random Forest for Price Prediction:\n",
      "✅ Can predict order values within ±$36 on average\n",
      "✅ Explains 62% of pricing patterns\n",
      "✅ Good enough for business decisions!\n",
      "\n",
      "Business Applications:\n",
      "• Dynamic pricing strategies\n",
      "• Revenue forecasting\n",
      "• Inventory planning\n",
      "• Customer segment analysis\n"
     ]
    }
   ],
   "execution_count": 22
  },
  {
   "cell_type": "markdown",
   "id": "d40c4382-c5ca-49ba-9e33-436d4f82aa54",
   "metadata": {},
   "source": [
    "why random forest has the best prediction, Random forest has a non-linear relationship, meaning prices vs features is not linear, it captures feature interaction(e.g heavy products in distant states cost more, and extreme products do not skew the model, while Linear regression fail- is that prices increase linearly with weight , but in reality e-commerce pricing is complex and non-linear, cannot captures interactions between features "
   ]
  },
  {
   "cell_type": "code",
   "id": "d99256d4-ec4b-49ab-9523-3dfa87c50589",
   "metadata": {
    "ExecuteTime": {
     "end_time": "2025-06-04T18:26:44.558427Z",
     "start_time": "2025-06-04T18:26:44.302198Z"
    }
   },
   "source": [
    "#fetaure importance seeing what drives pricees\n",
    "feature_importance=pd.DataFrame({\n",
    "    'feature':R_Features,\n",
    "    'importance':models['Random Forest Regressor'].feature_importances_,\n",
    "}).sort_values(by='importance', ascending=False)\n",
    "\n",
    "print(\"Top 5 Prices Drivers:\")\n",
    "print(feature_importance.head())"
   ],
   "outputs": [
    {
     "name": "stdout",
     "output_type": "stream",
     "text": [
      "Top 5 Prices Drivers:\n",
      "                       feature  importance\n",
      "10               freight_value    0.243255\n",
      "7   product_description_lenght    0.156378\n",
      "1             product_weight_g    0.103747\n",
      "0        product_category_name    0.100402\n",
      "2            product_length_cm    0.067468\n"
     ]
    }
   ],
   "execution_count": 23
  },
  {
   "cell_type": "markdown",
   "id": "3c98c17d-8d6b-4caf-bee0-02408704657b",
   "metadata": {},
   "source": [
    "Business Insight:\n"
   ]
  },
  {
   "cell_type": "code",
   "execution_count": 92,
   "id": "4bd33fac-0427-4b34-aacf-74373bf9e537",
   "metadata": {},
   "outputs": [
    {
     "name": "stdout",
     "output_type": "stream",
     "text": [
      "Key Price Drivers Analysis:\n",
      "🚚 Shipping costs heavily influence final order value\n",
      "📝 Product complexity (description length) indicates premium items\n",
      "⚖️ Product weight correlates with value/quality\n",
      "🏷️ Product category sets price expectations\n"
     ]
    }
   ],
   "source": [
    "print(\"Key Price Drivers Analysis:\")\n",
    "print(\"🚚 Shipping costs heavily influence final order value\")\n",
    "print(\"📝 Product complexity (description length) indicates premium items\") \n",
    "print(\"⚖️ Product weight correlates with value/quality\")\n",
    "print(\"🏷️ Product category sets price expectations\")"
   ]
  },
  {
   "cell_type": "code",
   "execution_count": null,
   "id": "eb518e33-3ac9-433d-bd6f-ddda53f2ee71",
   "metadata": {},
   "outputs": [],
   "source": []
  }
 ],
 "metadata": {
  "kernelspec": {
   "display_name": "Python (base)",
   "language": "python",
   "name": "base"
  },
  "language_info": {
   "codemirror_mode": {
    "name": "ipython",
    "version": 3
   },
   "file_extension": ".py",
   "mimetype": "text/x-python",
   "name": "python",
   "nbconvert_exporter": "python",
   "pygments_lexer": "ipython3",
   "version": "3.12.2"
  }
 },
 "nbformat": 4,
 "nbformat_minor": 5
}
